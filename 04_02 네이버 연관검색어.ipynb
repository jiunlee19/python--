{
 "cells": [
  {
   "cell_type": "markdown",
   "metadata": {},
   "source": [
    "# 네이버 연관검색어\n",
    "url + parameter 포함 "
   ]
  },
  {
   "cell_type": "code",
   "execution_count": 1,
   "metadata": {},
   "outputs": [],
   "source": [
    "from bs4 import BeautifulSoup\n",
    "import requests\n",
    "import urllib.parse as urlparser    # url encoding 하기 위해.."
   ]
  },
  {
   "cell_type": "code",
   "execution_count": 5,
   "metadata": {},
   "outputs": [
    {
     "name": "stdout",
     "output_type": "stream",
     "text": [
      "파이썬\n",
      "b'\\xed\\x8c\\x8c\\xec\\x9d\\xb4\\xec\\x8d\\xac'\n",
      "b'\\xc6\\xc4\\xc0\\xcc\\xbd\\xe3'\n",
      "%ED%8C%8C%EC%9D%B4%EC%8D%AC\n"
     ]
    }
   ],
   "source": [
    "keyword = '파이썬'\n",
    "print(keyword)\n",
    "print(keyword.encode('utf-8'))  # utf-8 로 인코딩  한글 1글자 -> 3byte\n",
    "print(keyword.encode('euc-kr')) # euc-kr 로 인코딩  한글 1글자 -> 2byte\n",
    "print(urlparser.quote(keyword))"
   ]
  },
  {
   "cell_type": "code",
   "execution_count": 6,
   "metadata": {},
   "outputs": [
    {
     "data": {
      "text/plain": [
       "'https://search.naver.com/search.naver?sm=top_hty&fbm=1&ie=utf8&query=%ED%8C%8C%EC%9D%B4%EC%8D%AC'"
      ]
     },
     "execution_count": 6,
     "metadata": {},
     "output_type": "execute_result"
    }
   ],
   "source": [
    "keyword = \"파이썬\"\n",
    "url = \"https://search.naver.com/search.naver?sm=top_hty&fbm=1&ie=utf8&query=\" + urlparser.quote(keyword)\n",
    "url"
   ]
  },
  {
   "cell_type": "code",
   "execution_count": 7,
   "metadata": {},
   "outputs": [
    {
     "data": {
      "text/plain": [
       "<Response [200]>"
      ]
     },
     "execution_count": 7,
     "metadata": {},
     "output_type": "execute_result"
    }
   ],
   "source": [
    "response = requests.get(url)\n",
    "response"
   ]
  },
  {
   "cell_type": "code",
   "execution_count": 9,
   "metadata": {},
   "outputs": [],
   "source": [
    "dom = BeautifulSoup(response.text, \"html.parser\")\n",
    "# dom"
   ]
  },
  {
   "cell_type": "code",
   "execution_count": 12,
   "metadata": {},
   "outputs": [
    {
     "name": "stdout",
     "output_type": "stream",
     "text": [
      "10\n"
     ]
    }
   ],
   "source": [
    "elements = dom.select(\"#nx_related_keywords li > a\")\n",
    "print(len(elements))"
   ]
  },
  {
   "cell_type": "code",
   "execution_count": 14,
   "metadata": {},
   "outputs": [
    {
     "data": {
      "text/plain": [
       "['파이썬 프로그래밍',\n",
       " '파이썬 자격증',\n",
       " '파이썬 독학',\n",
       " 'python',\n",
       " '파이썬 설치',\n",
       " '파이썬 다운로드',\n",
       " '파일썬',\n",
       " 'c언어',\n",
       " '파이썬 함수',\n",
       " '파이썬 책']"
      ]
     },
     "execution_count": 14,
     "metadata": {},
     "output_type": "execute_result"
    }
   ],
   "source": [
    "data = [\n",
    "    element.text.strip()\n",
    "    for element in elements\n",
    "]\n",
    "data"
   ]
  },
  {
   "cell_type": "markdown",
   "metadata": {},
   "source": [
    "## 완성본"
   ]
  },
  {
   "cell_type": "code",
   "execution_count": 20,
   "metadata": {},
   "outputs": [
    {
     "name": "stdout",
     "output_type": "stream",
     "text": [
      "검색어 입력: 파이썬\n",
      "['파이썬 프로그래밍', '파이썬 자격증', '파이썬 독학', 'python', '파이썬 설치', '파이썬 다운로드', '파일썬', 'c언어', '파이썬 함수', '파이썬 책']\n",
      "검색어 입력: 자바\n",
      "['자바 다운로드', 'java', 'java virtual machine', '마인크래프트 자바', 'java 8', '자바식물', '자바 다운', 'jre 설치', '자바 볼펜', '자바스크립트']\n",
      "검색어 입력: 판문점\n",
      "['판문점 폭파', '판문점 선언', '판문점 도끼만행사건', '판문점 관광', '판문점 견학', '북한 판문점', 'jsa', '판문점 폭발', '국회비준', '판문점 선언 비준']\n",
      "검색어 입력: 개성공단\n",
      "['개성공단 폭파', '개성공단 위치', '개성', '개성공단 폐쇄', '북한', '남북연락사무소', '김여정', '개성공단 연락사무소', '개성공단 관련주', '개성공동연락사무소']\n",
      "검색어 입력: 청와대\n",
      "['북한 청와대', '청와대 위치', '청와대 입장', '문재인', '청와대 담화', '청와대 발표', '북한', '청와대 주소', '청와대 입장발표', '청와대 국민청원']\n",
      "검색어 입력: 문재인\n",
      "[]\n",
      "검색어 입력: 김정은\n",
      "[]\n",
      "검색어 입력: 트럼프\n",
      "[]\n",
      "검색어 입력: 시진핑\n",
      "[]\n",
      "검색어 입력: 아베\n",
      "[]\n",
      "검색어 입력: 정의연\n",
      "['윤미향', '정의연 소장', '정의연 윤미향', '정의연 수사', '정의기억연대', '정대협', '정의연 사무총장', '정의연쉼터소장', '정의연뜻', '정의연 자살']\n",
      "검색어 입력: quit\n"
     ]
    }
   ],
   "source": [
    "from bs4 import BeautifulSoup\n",
    "import requests\n",
    "import urllib.parse as urlparser\n",
    "\n",
    "def naver_related(keyword):\n",
    "    url = \"https://search.naver.com/search.naver?sm=top_hty&fbm=1&ie=utf8&query=\" + urlparser.quote(keyword)\n",
    "    response = requests.get(url)\n",
    "    dom = BeautifulSoup(response.text, 'html.parser')\n",
    "    elements = dom.select(\"#nx_related_keywords li > a\")\n",
    "    data = [\n",
    "        element.text.strip()\n",
    "        for element in elements\n",
    "    ]\n",
    "    return data\n",
    "\n",
    "# print(naver_related('파이썬'))\n",
    "# print(naver_related('자바'))\n",
    "# print(naver_related('코로나'))\n",
    "\n",
    "\n",
    "while True:\n",
    "    keyword = input('검색어 입력: ')\n",
    "    if keyword.lower() == 'quit': break\n",
    "    print(naver_related(keyword))\n"
   ]
  },
  {
   "cell_type": "code",
   "execution_count": null,
   "metadata": {},
   "outputs": [],
   "source": []
  },
  {
   "cell_type": "code",
   "execution_count": null,
   "metadata": {},
   "outputs": [],
   "source": []
  },
  {
   "cell_type": "code",
   "execution_count": null,
   "metadata": {},
   "outputs": [],
   "source": []
  },
  {
   "cell_type": "code",
   "execution_count": null,
   "metadata": {},
   "outputs": [],
   "source": []
  },
  {
   "cell_type": "code",
   "execution_count": null,
   "metadata": {},
   "outputs": [],
   "source": []
  },
  {
   "cell_type": "code",
   "execution_count": null,
   "metadata": {},
   "outputs": [],
   "source": []
  },
  {
   "cell_type": "code",
   "execution_count": null,
   "metadata": {},
   "outputs": [],
   "source": []
  },
  {
   "cell_type": "code",
   "execution_count": null,
   "metadata": {},
   "outputs": [],
   "source": []
  }
 ],
 "metadata": {
  "kernelspec": {
   "display_name": "Python 3",
   "language": "python",
   "name": "python3"
  },
  "language_info": {
   "codemirror_mode": {
    "name": "ipython",
    "version": 3
   },
   "file_extension": ".py",
   "mimetype": "text/x-python",
   "name": "python",
   "nbconvert_exporter": "python",
   "pygments_lexer": "ipython3",
   "version": "3.7.4"
  }
 },
 "nbformat": 4,
 "nbformat_minor": 2
}
