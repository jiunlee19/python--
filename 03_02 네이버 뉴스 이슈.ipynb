{
 "cells": [
  {
   "cell_type": "markdown",
   "metadata": {},
   "source": [
    "# 네이버 뉴스 캐스트"
   ]
  },
  {
   "cell_type": "markdown",
   "metadata": {},
   "source": [
    "## requests 모듈"
   ]
  },
  {
   "cell_type": "code",
   "execution_count": 1,
   "metadata": {},
   "outputs": [],
   "source": [
    "import requests    # url 로부터 데이터 response 받아오는 모듈\n",
    "from bs4 import BeautifulSoup"
   ]
  },
  {
   "cell_type": "code",
   "execution_count": 8,
   "metadata": {},
   "outputs": [],
   "source": [
    "url = \"https://www.naver.com\""
   ]
  },
  {
   "cell_type": "code",
   "execution_count": 11,
   "metadata": {},
   "outputs": [
    {
     "data": {
      "text/plain": [
       "<Response [200]>"
      ]
     },
     "execution_count": 11,
     "metadata": {},
     "output_type": "execute_result"
    }
   ],
   "source": [
    "# get 방식으로 해당 url 로 request 를 보내고 response 를 받아서 리턴함\n",
    "response = requests.get(url)\n",
    "response"
   ]
  },
  {
   "cell_type": "code",
   "execution_count": 12,
   "metadata": {},
   "outputs": [
    {
     "data": {
      "text/plain": [
       "<Response [200]>"
      ]
     },
     "execution_count": 12,
     "metadata": {},
     "output_type": "execute_result"
    }
   ],
   "source": [
    "response    # out 결과는 200 이 나오면 정상적으로 처리되었슴 의미\n",
    "\n",
    "# request 결과코드\n",
    "# 200 성공\n",
    "# 404 url 존재하지 않음\n",
    "# 500 서버 내부 \n",
    "# 400 Bad Request : request 문법상의 오류\n",
    "# 401 권한에러 : 권한 관련 적절한 header 정보가 없는 경우 많이 발생\n",
    "# 402 권한에러 : 자원에 대한 접근 권한 에러\n",
    "# 403  권한에러 Forbidden : 파일권한, 읽기권한, SSL, IP, 등...  <--- 웹 크롤링 하다가 은근히 자주 마주치게 되는 에러\n"
   ]
  },
  {
   "cell_type": "code",
   "execution_count": 13,
   "metadata": {},
   "outputs": [
    {
     "data": {
      "text/plain": [
       "200"
      ]
     },
     "execution_count": 13,
     "metadata": {},
     "output_type": "execute_result"
    }
   ],
   "source": [
    "response.status_code"
   ]
  },
  {
   "cell_type": "code",
   "execution_count": 16,
   "metadata": {},
   "outputs": [
    {
     "data": {
      "text/plain": [
       "'\\n<!doctype html>                     <html lang=\"ko\" data-dark=\"false\"> <head> <meta charset=\"utf-8\"'"
      ]
     },
     "execution_count": 16,
     "metadata": {},
     "output_type": "execute_result"
    }
   ],
   "source": [
    " #<-- 실제로 response 받은 html 코드가 담여 있다.  이제 이를 BeautifulSoup 에서 파싱 하면 됨\n",
    "response.text[:100]"
   ]
  },
  {
   "cell_type": "code",
   "execution_count": 17,
   "metadata": {},
   "outputs": [],
   "source": [
    "dom = BeautifulSoup(response.text, \"html.parser\")"
   ]
  },
  {
   "cell_type": "code",
   "execution_count": 19,
   "metadata": {},
   "outputs": [],
   "source": [
    "# dom"
   ]
  },
  {
   "cell_type": "code",
   "execution_count": 20,
   "metadata": {},
   "outputs": [
    {
     "data": {
      "text/plain": [
       "[<a class=\"issue\" data-clk=\"quickarticle\" href=\"http://news.naver.com/main/list.nhn?mode=LPOD&amp;mid=sec&amp;sid1=001&amp;sid2=140&amp;oid=001&amp;isYeonhapFlash=Y&amp;aid=0011682924\">북한, 개성 연락사무소 전격 폭파…청 \"강력한 유감\"</a>,\n",
       " <a class=\"issue\" data-clk=\"quickarticle\" href=\"http://news.naver.com/main/list.nhn?mode=LPOD&amp;mid=sec&amp;sid1=001&amp;sid2=140&amp;oid=001&amp;isYeonhapFlash=Y&amp;aid=0011683044\">긴박한 하루…청와대·정부 당혹감 속 대책마련 분주</a>,\n",
       " <a class=\"issue\" data-clk=\"quickarticle\" href=\"http://news.naver.com/main/list.nhn?mode=LPOD&amp;mid=sec&amp;sid1=001&amp;sid2=140&amp;oid=001&amp;isYeonhapFlash=Y&amp;aid=0011682782\">폭파로 '폭삭' 주저앉은 연락사무소…순식간에 연기 뒤덮여</a>,\n",
       " <a class=\"issue\" data-clk=\"quickarticle\" href=\"http://news.naver.com/main/list.nhn?mode=LPOD&amp;mid=sec&amp;sid1=001&amp;sid2=140&amp;oid=001&amp;isYeonhapFlash=Y&amp;aid=0011682572\">박지원 \"北 금강산에서도 할 것…과민반응 말아야\"</a>,\n",
       " <a class=\"issue\" data-clk=\"quickarticle\" href=\"http://news.naver.com/main/list.nhn?mode=LPOD&amp;mid=sec&amp;sid1=001&amp;sid2=140&amp;oid=001&amp;isYeonhapFlash=Y&amp;aid=0011682473\">신규확진 34명·사흘째 30명대…수도권 감염 지속 해외유입 증가</a>,\n",
       " <a class=\"issue\" data-clk=\"quickarticle\" href=\"http://news.naver.com/main/list.nhn?mode=LPOD&amp;mid=sec&amp;sid1=001&amp;sid2=140&amp;oid=001&amp;isYeonhapFlash=Y&amp;aid=0011682617\">올해 고3 출결·비교과 부담↓…주요 대학들 \"코로나19 고려\"</a>,\n",
       " <a class=\"issue\" data-clk=\"quickarticle\" href=\"http://news.naver.com/main/list.nhn?mode=LPOD&amp;mid=sec&amp;sid1=001&amp;sid2=140&amp;oid=001&amp;isYeonhapFlash=Y&amp;aid=0011682638\">자녀 '황제복무' 논란 나이스그룹 부회장 사퇴</a>,\n",
       " <a class=\"issue\" data-clk=\"quickarticle\" href=\"http://news.naver.com/main/list.nhn?mode=LPOD&amp;mid=sec&amp;sid1=001&amp;sid2=140&amp;oid=001&amp;isYeonhapFlash=Y&amp;aid=0011682673\">윤미향, 정치후원금 계좌 개통…통합 \"18원 송금이 여론\"</a>,\n",
       " <a class=\"issue\" data-clk=\"quickarticle\" href=\"http://news.naver.com/main/list.nhn?mode=LPOD&amp;mid=sec&amp;sid1=001&amp;sid2=140&amp;oid=001&amp;isYeonhapFlash=Y&amp;aid=0011682922\">전국 구름많고 흐린 수요일…제주 오후부터 비</a>,\n",
       " <a class=\"issue\" data-clk=\"quickarticle\" href=\"http://news.naver.com/main/list.nhn?mode=LPOD&amp;mid=sec&amp;sid1=001&amp;sid2=140&amp;oid=001&amp;isYeonhapFlash=Y&amp;aid=0011682821\">대검 \"한명숙 수사팀 진정사건, 감찰부 소관 아니다\"</a>]"
      ]
     },
     "execution_count": 20,
     "metadata": {},
     "output_type": "execute_result"
    }
   ],
   "source": [
    "elements = dom.select(\"#yna_rolling .issue\")\n",
    "elements"
   ]
  },
  {
   "cell_type": "code",
   "execution_count": 22,
   "metadata": {},
   "outputs": [
    {
     "data": {
      "text/plain": [
       "10"
      ]
     },
     "execution_count": 22,
     "metadata": {},
     "output_type": "execute_result"
    }
   ],
   "source": [
    "len(elements)  # 확인"
   ]
  },
  {
   "cell_type": "code",
   "execution_count": 23,
   "metadata": {},
   "outputs": [
    {
     "data": {
      "text/plain": [
       "<a class=\"issue\" data-clk=\"quickarticle\" href=\"http://news.naver.com/main/list.nhn?mode=LPOD&amp;mid=sec&amp;sid1=001&amp;sid2=140&amp;oid=001&amp;isYeonhapFlash=Y&amp;aid=0011682924\">북한, 개성 연락사무소 전격 폭파…청 \"강력한 유감\"</a>"
      ]
     },
     "execution_count": 23,
     "metadata": {},
     "output_type": "execute_result"
    }
   ],
   "source": [
    "elements[0]"
   ]
  },
  {
   "cell_type": "code",
   "execution_count": 24,
   "metadata": {},
   "outputs": [
    {
     "name": "stdout",
     "output_type": "stream",
     "text": [
      "북한, 개성 연락사무소 전격 폭파…청 \"강력한 유감\"\n",
      "긴박한 하루…청와대·정부 당혹감 속 대책마련 분주\n",
      "폭파로 '폭삭' 주저앉은 연락사무소…순식간에 연기 뒤덮여\n",
      "박지원 \"北 금강산에서도 할 것…과민반응 말아야\"\n",
      "신규확진 34명·사흘째 30명대…수도권 감염 지속 해외유입 증가\n",
      "올해 고3 출결·비교과 부담↓…주요 대학들 \"코로나19 고려\"\n",
      "자녀 '황제복무' 논란 나이스그룹 부회장 사퇴\n",
      "윤미향, 정치후원금 계좌 개통…통합 \"18원 송금이 여론\"\n",
      "전국 구름많고 흐린 수요일…제주 오후부터 비\n",
      "대검 \"한명숙 수사팀 진정사건, 감찰부 소관 아니다\"\n"
     ]
    }
   ],
   "source": [
    "for element in elements:\n",
    "    print(element.text.strip())"
   ]
  },
  {
   "cell_type": "markdown",
   "metadata": {},
   "source": [
    "# 완성코드"
   ]
  },
  {
   "cell_type": "code",
   "execution_count": 1,
   "metadata": {},
   "outputs": [
    {
     "name": "stdout",
     "output_type": "stream",
     "text": [
      "['[르포] 남북 긴장 속 연평도 1호 대피소…\"이용할 상황 없어야\"', \"대북전단 대응 놓고 이재명·하태경 SNS서 '찍소리' 설전\", '靑 \"오늘 통일장관 사표수리 없다\"…후임 임종석 이인영 거론', '추미애 \"한명숙 사건, 대검 감찰부가 직접 조사하라\" 지시', '등교 한 달만에 모평 치른 고3 \"만만치 않아…재수생 유리할 듯\"', '교육부 \"등록금 환불은 대학-학생간 문제…현금지원 불가\"', '규제지역 묶인 수도권, 고분양가 관리지역으로도 무더기 지정', \"보톡스 '메디톡신' 14년만에 퇴출…메디톡스 행정소송\", '아베 \"베트남·태국 등 4국과 입국완화 조율\"…한국 제외', '볼턴, 트럼프 재선 길에 \\'폭탄 투척\\'…\"시진핑에 지원 간청\"']\n"
     ]
    }
   ],
   "source": [
    "import requests\n",
    "from bs4 import BeautifulSoup\n",
    "\n",
    "url = \"https://www.naver.com\"\n",
    "\n",
    "response = requests.get(url)\n",
    "dom = BeautifulSoup(response.text, \"html.parser\")\n",
    "elements = dom.select(\"#yna_rolling .issue\")\n",
    "result = [\n",
    "    element.text.strip()\n",
    "    for element in elements\n",
    "]\n",
    "print(result)\n"
   ]
  },
  {
   "cell_type": "markdown",
   "metadata": {},
   "source": [
    "# 결과 파일 저장 -> txt\n",
    "실행시간으로 파일명 저장"
   ]
  },
  {
   "cell_type": "code",
   "execution_count": 26,
   "metadata": {},
   "outputs": [],
   "source": [
    "import time\n",
    "import os"
   ]
  },
  {
   "cell_type": "code",
   "execution_count": 27,
   "metadata": {},
   "outputs": [
    {
     "data": {
      "text/plain": [
       "'20200616214453'"
      ]
     },
     "execution_count": 27,
     "metadata": {},
     "output_type": "execute_result"
    }
   ],
   "source": [
    "now = time.strftime('%Y%m%d%H%M%S')\n",
    "now"
   ]
  },
  {
   "cell_type": "code",
   "execution_count": 28,
   "metadata": {},
   "outputs": [
    {
     "data": {
      "text/plain": [
       "'네이버뉴스이슈20200616214453.txt'"
      ]
     },
     "execution_count": 28,
     "metadata": {},
     "output_type": "execute_result"
    }
   ],
   "source": [
    "filename = f'네이버뉴스이슈{now}.txt'\n",
    "filename"
   ]
  },
  {
   "cell_type": "code",
   "execution_count": 29,
   "metadata": {},
   "outputs": [
    {
     "data": {
      "text/plain": [
       "'D:\\\\ds2006'"
      ]
     },
     "execution_count": 29,
     "metadata": {},
     "output_type": "execute_result"
    }
   ],
   "source": [
    "os.getcwd()  # 현재 경로"
   ]
  },
  {
   "cell_type": "code",
   "execution_count": 30,
   "metadata": {},
   "outputs": [
    {
     "data": {
      "text/plain": [
       "'D:\\\\ds2006\\\\out\\\\네이버뉴스이슈20200616214453.txt'"
      ]
     },
     "execution_count": 30,
     "metadata": {},
     "output_type": "execute_result"
    }
   ],
   "source": [
    "filepath = os.path.join(os.getcwd(), 'out', filename)\n",
    "filepath"
   ]
  },
  {
   "cell_type": "code",
   "execution_count": 31,
   "metadata": {},
   "outputs": [],
   "source": [
    "with open(filepath, \"wt\", encoding='utf-8') as f:\n",
    "    for data in result:\n",
    "        f.write(data + \"\\n\")"
   ]
  },
  {
   "cell_type": "markdown",
   "metadata": {},
   "source": [
    "# 결과 파일로 저장하기 -> 엑셀\n",
    "pandas DataFrame -> 엑셀"
   ]
  },
  {
   "cell_type": "code",
   "execution_count": 32,
   "metadata": {},
   "outputs": [],
   "source": [
    "import pandas as pd"
   ]
  },
  {
   "cell_type": "code",
   "execution_count": 33,
   "metadata": {},
   "outputs": [
    {
     "data": {
      "text/html": [
       "<div>\n",
       "<style scoped>\n",
       "    .dataframe tbody tr th:only-of-type {\n",
       "        vertical-align: middle;\n",
       "    }\n",
       "\n",
       "    .dataframe tbody tr th {\n",
       "        vertical-align: top;\n",
       "    }\n",
       "\n",
       "    .dataframe thead th {\n",
       "        text-align: right;\n",
       "    }\n",
       "</style>\n",
       "<table border=\"1\" class=\"dataframe\">\n",
       "  <thead>\n",
       "    <tr style=\"text-align: right;\">\n",
       "      <th></th>\n",
       "      <th>뉴스</th>\n",
       "    </tr>\n",
       "  </thead>\n",
       "  <tbody>\n",
       "  </tbody>\n",
       "</table>\n",
       "</div>"
      ],
      "text/plain": [
       "Empty DataFrame\n",
       "Columns: [뉴스]\n",
       "Index: []"
      ]
     },
     "execution_count": 33,
     "metadata": {},
     "output_type": "execute_result"
    }
   ],
   "source": [
    "df = pd.DataFrame([], columns=['뉴스'])\n",
    "df"
   ]
  },
  {
   "cell_type": "code",
   "execution_count": 34,
   "metadata": {},
   "outputs": [
    {
     "data": {
      "text/html": [
       "<div>\n",
       "<style scoped>\n",
       "    .dataframe tbody tr th:only-of-type {\n",
       "        vertical-align: middle;\n",
       "    }\n",
       "\n",
       "    .dataframe tbody tr th {\n",
       "        vertical-align: top;\n",
       "    }\n",
       "\n",
       "    .dataframe thead th {\n",
       "        text-align: right;\n",
       "    }\n",
       "</style>\n",
       "<table border=\"1\" class=\"dataframe\">\n",
       "  <thead>\n",
       "    <tr style=\"text-align: right;\">\n",
       "      <th></th>\n",
       "      <th>뉴스</th>\n",
       "    </tr>\n",
       "  </thead>\n",
       "  <tbody>\n",
       "    <tr>\n",
       "      <td>0</td>\n",
       "      <td>북한, 개성 연락사무소 전격 폭파…청 \"강력한 유감\"</td>\n",
       "    </tr>\n",
       "    <tr>\n",
       "      <td>1</td>\n",
       "      <td>긴박한 하루…청와대·정부 당혹감 속 대책마련 분주</td>\n",
       "    </tr>\n",
       "    <tr>\n",
       "      <td>2</td>\n",
       "      <td>폭파로 '폭삭' 주저앉은 연락사무소…순식간에 연기 뒤덮여</td>\n",
       "    </tr>\n",
       "    <tr>\n",
       "      <td>3</td>\n",
       "      <td>박지원 \"北 금강산에서도 할 것…과민반응 말아야\"</td>\n",
       "    </tr>\n",
       "    <tr>\n",
       "      <td>4</td>\n",
       "      <td>신규확진 34명·사흘째 30명대…수도권 감염 지속 해외유입 증가</td>\n",
       "    </tr>\n",
       "    <tr>\n",
       "      <td>5</td>\n",
       "      <td>올해 고3 출결·비교과 부담↓…주요 대학들 \"코로나19 고려\"</td>\n",
       "    </tr>\n",
       "    <tr>\n",
       "      <td>6</td>\n",
       "      <td>자녀 '황제복무' 논란 나이스그룹 부회장 사퇴</td>\n",
       "    </tr>\n",
       "    <tr>\n",
       "      <td>7</td>\n",
       "      <td>윤미향, 정치후원금 계좌 개통…통합 \"18원 송금이 여론\"</td>\n",
       "    </tr>\n",
       "    <tr>\n",
       "      <td>8</td>\n",
       "      <td>전국 구름많고 흐린 수요일…제주 오후부터 비</td>\n",
       "    </tr>\n",
       "    <tr>\n",
       "      <td>9</td>\n",
       "      <td>대검 \"한명숙 수사팀 진정사건, 감찰부 소관 아니다\"</td>\n",
       "    </tr>\n",
       "  </tbody>\n",
       "</table>\n",
       "</div>"
      ],
      "text/plain": [
       "                                    뉴스\n",
       "0        북한, 개성 연락사무소 전격 폭파…청 \"강력한 유감\"\n",
       "1          긴박한 하루…청와대·정부 당혹감 속 대책마련 분주\n",
       "2      폭파로 '폭삭' 주저앉은 연락사무소…순식간에 연기 뒤덮여\n",
       "3          박지원 \"北 금강산에서도 할 것…과민반응 말아야\"\n",
       "4  신규확진 34명·사흘째 30명대…수도권 감염 지속 해외유입 증가\n",
       "5   올해 고3 출결·비교과 부담↓…주요 대학들 \"코로나19 고려\"\n",
       "6            자녀 '황제복무' 논란 나이스그룹 부회장 사퇴\n",
       "7     윤미향, 정치후원금 계좌 개통…통합 \"18원 송금이 여론\"\n",
       "8             전국 구름많고 흐린 수요일…제주 오후부터 비\n",
       "9        대검 \"한명숙 수사팀 진정사건, 감찰부 소관 아니다\""
      ]
     },
     "execution_count": 34,
     "metadata": {},
     "output_type": "execute_result"
    }
   ],
   "source": [
    "for data in result:\n",
    "    df.loc[len(df)] = data\n",
    "    \n",
    "df"
   ]
  },
  {
   "cell_type": "code",
   "execution_count": 35,
   "metadata": {},
   "outputs": [
    {
     "data": {
      "text/plain": [
       "'D:\\\\ds2006\\\\out\\\\네이버뉴스이슈20200616214453.xlsx'"
      ]
     },
     "execution_count": 35,
     "metadata": {},
     "output_type": "execute_result"
    }
   ],
   "source": [
    "filepath = os.path.join(os.getcwd(), 'out', f'네이버뉴스이슈{now}.xlsx')\n",
    "filepath"
   ]
  },
  {
   "cell_type": "code",
   "execution_count": 36,
   "metadata": {},
   "outputs": [],
   "source": [
    "df.to_excel(filepath, encoding='euc-kr')"
   ]
  },
  {
   "cell_type": "code",
   "execution_count": null,
   "metadata": {},
   "outputs": [],
   "source": []
  },
  {
   "cell_type": "code",
   "execution_count": null,
   "metadata": {},
   "outputs": [],
   "source": []
  },
  {
   "cell_type": "code",
   "execution_count": null,
   "metadata": {},
   "outputs": [],
   "source": []
  },
  {
   "cell_type": "code",
   "execution_count": null,
   "metadata": {},
   "outputs": [],
   "source": []
  }
 ],
 "metadata": {
  "kernelspec": {
   "display_name": "Python 3",
   "language": "python",
   "name": "python3"
  },
  "language_info": {
   "codemirror_mode": {
    "name": "ipython",
    "version": 3
   },
   "file_extension": ".py",
   "mimetype": "text/x-python",
   "name": "python",
   "nbconvert_exporter": "python",
   "pygments_lexer": "ipython3",
   "version": "3.7.4"
  }
 },
 "nbformat": 4,
 "nbformat_minor": 2
}
