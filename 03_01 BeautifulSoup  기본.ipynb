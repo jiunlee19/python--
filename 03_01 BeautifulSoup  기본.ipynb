{
 "cells": [
  {
   "cell_type": "markdown",
   "metadata": {},
   "source": [
    "# 웹 크롤링 Web Crawling?"
   ]
  },
  {
   "cell_type": "code",
   "execution_count": 1,
   "metadata": {},
   "outputs": [],
   "source": [
    "# 실질적으로 하는 '데이터 수집'  (data crawling.. scraping..)\n",
    "\n",
    "# 일반적으로 crawling.. scraping..  은 대형 포털등에서 통채로 불러올때 쓰는 말\n",
    "\n",
    "# 우리가 하려는건\n",
    "# 가령.. 뉴스, 기사 내용, 쇼핑몰 제품.. 가격정보  판매수치 정보.. 등..\n",
    "# 웹 페이지의 특정한 위치에 있는것만 가져오려 하는 것.\n",
    "\n",
    "# 가령 네이버에 특정 검색어 입력한뒤,  '블로그' 영역 이라든지 \n",
    "# 혹은 쇼핑몰 등에서 상품이미지 나 가격 이름 정보만 가져오기 라든지\n",
    "#      경쟁사의 특정 물품 판매 지수 라든지 등에 대한 정보..\n",
    "\n",
    "# 현재 우리가 하는건 사실상 parsing 이라 해야 한다.  \n",
    "\n",
    "# 그러나, 용어의 혼선이 올거 같아서, \n",
    "# 우리가 배우는 파싱 하는 것들을 그냥 크롤링 이라 부르겠습니다.\n",
    "\n",
    "\n",
    "# 앞으로 보게될 사이트 크롤링 적용예\n",
    "# 1. 정적인 사이트 \n",
    "# 2. 동적인 사이트\n",
    "# 3. 브라우저 제어를 통한 크롤링\n"
   ]
  },
  {
   "cell_type": "markdown",
   "metadata": {},
   "source": [
    "# '정적' 인 사이트 웹 크롤링"
   ]
  },
  {
   "cell_type": "code",
   "execution_count": 2,
   "metadata": {},
   "outputs": [],
   "source": [
    "# 가장 간단한 형태의 페이지\n",
    "# 고정된 내용을 크롤링 한다\n",
    "# 해당 URL 로 response 받는 텍스트를 크롤링 하는 것이다.\n",
    "#  페이지에서 '소스보기' 로 했을때 보이는 내용이 크롤링 대상이다."
   ]
  },
  {
   "cell_type": "markdown",
   "metadata": {},
   "source": [
    "## BeautifulSoup 사용하기"
   ]
  },
  {
   "cell_type": "code",
   "execution_count": 3,
   "metadata": {},
   "outputs": [],
   "source": [
    "fp = open(\"data/simple.html\", \"r\", encoding=\"utf8\")\n",
    "html = fp.read()\n",
    "fp.close()"
   ]
  },
  {
   "cell_type": "code",
   "execution_count": 4,
   "metadata": {},
   "outputs": [
    {
     "data": {
      "text/plain": [
       "'<!DOCTYPE html>\\n<html lang=\"ko\">\\n    <head>\\n        <meta charset=\"utf-8\">\\n        <title>간단한 html</title>\\n        <style>\\n            table, th, td {\\n                border: 1px solid black;\\n                border-collapse : collapse;\\n            }\\n            \\n            .animal {color: blue;}\\n            .fruit {color: orange;}\\n            #cat {color: brown;}\\n            \\n            #books b {\\n                background-color: cyan;\\n            }\\n            \\n        </style>\\n        \\n    </head>\\n    \\n    <body>\\n        <h1>header</h1>\\n        <p>This is a paragraph</p>\\n        <div>이것은 <br>div 입니다</div>\\n        \\n        <ul>\\n            <li class=\"animal\">dog</li>\\n            <li class=\"animal\">cat</li>\\n            <li class=\"animal\">frog</li>\\n            <li class=\"animal\">this</li>\\n        </ul>\\n        <ul>\\n            <li class=\"fruit\">apple</li>\\n            <li class=\"fruit\">ba<b>nana</b></li>\\n        </ul>\\n        <ol>\\n            <li><a href=\"https://www.naver.com\">네이버</a></li>\\n            <li><a href=\"https://www.daum.net\">DAUM</a></li>\\n            <li id=\"cat\">고양이</li>\\n        </ol>\\n        <hr>\\n        \\n        <table id=\"books\">\\n            <thead>\\n                <tr>\\n                    <th>제목</th>\\n                    <th>가격</th>\\n                </tr>\\n            </thead>\\n            \\n            <tbody>\\n                <tr>\\n                    <td>1. 이것이 파이썬이다</td>\\n                    <td><b>[도서]</b> 19,200원</td>\\n                </tr>\\n                <tr>\\n                    <td>2. 저것도 파이썬이다</td>\\n                    <td><b>[할인]</b> 12,800원</td>\\n                </tr>\\n                <tr>\\n                    <td>3. 그래도 파이썬?</td>\\n                    <td><b>[중고]</b> 6,500원</td>\\n                </tr>                \\n            </tbody>\\n        </table>\\n        \\n        \\n        \\n        <br><br><br><br><br><br><br><br><br><br><br><br><br><br><br><br><br><br><br><br><br><br>\\n    </body>    \\n    \\n</html>\\n\\n\\n\\n\\n\\n\\n\\n\\n\\n\\n\\n\\n\\n\\n\\n\\n'"
      ]
     },
     "execution_count": 4,
     "metadata": {},
     "output_type": "execute_result"
    }
   ],
   "source": [
    "html"
   ]
  },
  {
   "cell_type": "code",
   "execution_count": 5,
   "metadata": {},
   "outputs": [],
   "source": [
    "from bs4 import BeautifulSoup   # html, xml 등의 파일을 parsing 할수 있다."
   ]
  },
  {
   "cell_type": "code",
   "execution_count": 8,
   "metadata": {},
   "outputs": [],
   "source": [
    "data = BeautifulSoup(html, \"html.parser\")\n",
    "# 주어진 데이터 html 을 html 문서로 파싱하고\n",
    "# Document Object Model 객체 (DOM) 을 표현하는 BeautifulSoup 객체 생성\n",
    "\n",
    "#BeautifulSoup 생성자의 두번째 매개변수로는 html.parser 나 lxml 을 많이 사용한다. 여기서는 동일"
   ]
  },
  {
   "cell_type": "code",
   "execution_count": 9,
   "metadata": {},
   "outputs": [
    {
     "data": {
      "text/plain": [
       "bs4.BeautifulSoup"
      ]
     },
     "execution_count": 9,
     "metadata": {},
     "output_type": "execute_result"
    }
   ],
   "source": [
    "type(data)"
   ]
  },
  {
   "cell_type": "markdown",
   "metadata": {},
   "source": [
    "## select(), select_one() 메소드"
   ]
  },
  {
   "cell_type": "code",
   "execution_count": 13,
   "metadata": {},
   "outputs": [
    {
     "data": {
      "text/plain": [
       "<h1>header</h1>"
      ]
     },
     "execution_count": 13,
     "metadata": {},
     "output_type": "execute_result"
    }
   ],
   "source": [
    "#data.select_one(CSS selector)\n",
    "# 해당 CSS selector 로 select 된 첫번째 element 하나를 리턴\n",
    "\n",
    "data.select_one(\"h1\")  # 결과가 element "
   ]
  },
  {
   "cell_type": "code",
   "execution_count": 14,
   "metadata": {},
   "outputs": [
    {
     "data": {
      "text/plain": [
       "bs4.element.Tag"
      ]
     },
     "execution_count": 14,
     "metadata": {},
     "output_type": "execute_result"
    }
   ],
   "source": [
    "type(data.select_one(\"h1\"))"
   ]
  },
  {
   "cell_type": "code",
   "execution_count": 16,
   "metadata": {},
   "outputs": [
    {
     "data": {
      "text/plain": [
       "<li class=\"animal\">dog</li>"
      ]
     },
     "execution_count": 16,
     "metadata": {},
     "output_type": "execute_result"
    }
   ],
   "source": [
    "data.select_one(\"li\")  # 해당 selector 의 element 가 여러개 있었다 하더라도 첫번째 element 만 리턴"
   ]
  },
  {
   "cell_type": "code",
   "execution_count": 18,
   "metadata": {},
   "outputs": [
    {
     "data": {
      "text/plain": [
       "[<li class=\"fruit\">apple</li>, <li class=\"fruit\">ba<b>nana</b></li>]"
      ]
     },
     "execution_count": 18,
     "metadata": {},
     "output_type": "execute_result"
    }
   ],
   "source": [
    "data.select(\".fruit\")  # element (들)의  list 가 리턴된다.\n",
    "\n",
    "# 해당 CSS selector 로 select 된 모든 element(들)의 list 리턴\n",
    "# 심지어 한개도 select 되지 않아도 비어있는 list 리턴"
   ]
  },
  {
   "cell_type": "code",
   "execution_count": 19,
   "metadata": {},
   "outputs": [
    {
     "data": {
      "text/plain": [
       "[]"
      ]
     },
     "execution_count": 19,
     "metadata": {},
     "output_type": "execute_result"
    }
   ],
   "source": [
    "data.select('.xxx')"
   ]
  },
  {
   "cell_type": "code",
   "execution_count": 20,
   "metadata": {},
   "outputs": [
    {
     "data": {
      "text/plain": [
       "2"
      ]
     },
     "execution_count": 20,
     "metadata": {},
     "output_type": "execute_result"
    }
   ],
   "source": [
    "# select() 결과 element 의 개수를 알고 싶다면?\n",
    "len(data.select(\".fruit\"))"
   ]
  },
  {
   "cell_type": "code",
   "execution_count": 21,
   "metadata": {},
   "outputs": [
    {
     "data": {
      "text/plain": [
       "<li class=\"fruit\">apple</li>"
      ]
     },
     "execution_count": 21,
     "metadata": {},
     "output_type": "execute_result"
    }
   ],
   "source": [
    "data.select_one(\".fruit\")  # select 된 첫번째 element 만 결과로 리턴 "
   ]
  },
  {
   "cell_type": "code",
   "execution_count": 22,
   "metadata": {},
   "outputs": [
    {
     "data": {
      "text/plain": [
       "<li class=\"fruit\">apple</li>"
      ]
     },
     "execution_count": 22,
     "metadata": {},
     "output_type": "execute_result"
    }
   ],
   "source": [
    "data.select(\".fruit\")[0]"
   ]
  },
  {
   "cell_type": "code",
   "execution_count": 23,
   "metadata": {},
   "outputs": [
    {
     "data": {
      "text/plain": [
       "<li class=\"fruit\">ba<b>nana</b></li>"
      ]
     },
     "execution_count": 23,
     "metadata": {},
     "output_type": "execute_result"
    }
   ],
   "source": [
    "data.select(\".fruit\")[1]"
   ]
  },
  {
   "cell_type": "markdown",
   "metadata": {},
   "source": [
    "## .text"
   ]
  },
  {
   "cell_type": "code",
   "execution_count": 24,
   "metadata": {},
   "outputs": [],
   "source": [
    "# .text : 특정 element 의 content \n",
    "#  태그는 제거된 형태"
   ]
  },
  {
   "cell_type": "code",
   "execution_count": 26,
   "metadata": {},
   "outputs": [
    {
     "data": {
      "text/plain": [
       "'apple'"
      ]
     },
     "execution_count": 26,
     "metadata": {},
     "output_type": "execute_result"
    }
   ],
   "source": [
    "data.select(\".fruit\")[0].text"
   ]
  },
  {
   "cell_type": "code",
   "execution_count": 28,
   "metadata": {},
   "outputs": [
    {
     "data": {
      "text/plain": [
       "'apple'"
      ]
     },
     "execution_count": 28,
     "metadata": {},
     "output_type": "execute_result"
    }
   ],
   "source": [
    "# str.strip()\n",
    "# 일반적으로 텍스트 데이터를 뽑아내고 나면 좌우 공백을 제거해주자\n",
    "data.select(\".fruit\")[0].text.strip()"
   ]
  },
  {
   "cell_type": "code",
   "execution_count": 30,
   "metadata": {},
   "outputs": [
    {
     "data": {
      "text/plain": [
       "'banana'"
      ]
     },
     "execution_count": 30,
     "metadata": {},
     "output_type": "execute_result"
    }
   ],
   "source": [
    "data.select(\".fruit\")[1].text.strip()"
   ]
  },
  {
   "cell_type": "code",
   "execution_count": 31,
   "metadata": {},
   "outputs": [],
   "source": [
    "#[\"apple\", \"banana\"] 이렇게 결과가 나오도록 결과를 만들자\n",
    "# for 사용"
   ]
  },
  {
   "cell_type": "code",
   "execution_count": 32,
   "metadata": {},
   "outputs": [
    {
     "data": {
      "text/plain": [
       "['apple', 'banana']"
      ]
     },
     "execution_count": 32,
     "metadata": {},
     "output_type": "execute_result"
    }
   ],
   "source": [
    "result = []\n",
    "for element in data.select(\".fruit\"):\n",
    "    result.append(element.text.strip())\n",
    "    \n",
    "result"
   ]
  },
  {
   "cell_type": "code",
   "execution_count": 34,
   "metadata": {},
   "outputs": [
    {
     "data": {
      "text/plain": [
       "['apple', 'banana']"
      ]
     },
     "execution_count": 34,
     "metadata": {},
     "output_type": "execute_result"
    }
   ],
   "source": [
    "# 도전!!\n",
    "#[\"apple\", \"banana\"] 이렇게 결과가 나오도록 list comprehension 을 사용하여 작성해보세요\n",
    "\n",
    "[element.text.strip() for element in data.select(\".fruit\")]"
   ]
  },
  {
   "cell_type": "code",
   "execution_count": 36,
   "metadata": {},
   "outputs": [
    {
     "data": {
      "text/plain": [
       "['dog', 'cat', 'frog', 'this']"
      ]
     },
     "execution_count": 36,
     "metadata": {},
     "output_type": "execute_result"
    }
   ],
   "source": [
    "# 연습: 도전!\n",
    "# animals 에 대한 리스트도 뽑아보세요\n",
    "# 결과 --> ['dog', 'cat', 'frog', 'this']\n",
    "\n",
    "[\n",
    "    animal_element.text.strip()\n",
    "    for animal_element\n",
    "    in data.select(\".animal\")\n",
    "]\n"
   ]
  },
  {
   "cell_type": "markdown",
   "metadata": {},
   "source": [
    "## .attrs\n",
    "attribute 들 가져오기"
   ]
  },
  {
   "cell_type": "code",
   "execution_count": 38,
   "metadata": {},
   "outputs": [
    {
     "data": {
      "text/plain": [
       "[<a href=\"https://www.naver.com\">네이버</a>,\n",
       " <a href=\"https://www.daum.net\">DAUM</a>]"
      ]
     },
     "execution_count": 38,
     "metadata": {},
     "output_type": "execute_result"
    }
   ],
   "source": [
    "data.select(\"ol li a\")"
   ]
  },
  {
   "cell_type": "code",
   "execution_count": 39,
   "metadata": {},
   "outputs": [
    {
     "data": {
      "text/plain": [
       "<a href=\"https://www.naver.com\">네이버</a>"
      ]
     },
     "execution_count": 39,
     "metadata": {},
     "output_type": "execute_result"
    }
   ],
   "source": [
    "data.select(\"ol li a\")[0]"
   ]
  },
  {
   "cell_type": "code",
   "execution_count": 40,
   "metadata": {},
   "outputs": [
    {
     "data": {
      "text/plain": [
       "{'href': 'https://www.naver.com'}"
      ]
     },
     "execution_count": 40,
     "metadata": {},
     "output_type": "execute_result"
    }
   ],
   "source": [
    "data.select(\"ol li a\")[0].attrs"
   ]
  },
  {
   "cell_type": "code",
   "execution_count": 41,
   "metadata": {},
   "outputs": [
    {
     "data": {
      "text/plain": [
       "'https://www.naver.com'"
      ]
     },
     "execution_count": 41,
     "metadata": {},
     "output_type": "execute_result"
    }
   ],
   "source": [
    "data.select(\"ol li a\")[0].attrs['href']"
   ]
  },
  {
   "cell_type": "code",
   "execution_count": 42,
   "metadata": {},
   "outputs": [
    {
     "data": {
      "text/plain": [
       "'https://www.naver.com'"
      ]
     },
     "execution_count": 42,
     "metadata": {},
     "output_type": "execute_result"
    }
   ],
   "source": [
    "data.select(\"ol li a\")[0].attrs.get('href')"
   ]
  },
  {
   "cell_type": "code",
   "execution_count": 43,
   "metadata": {},
   "outputs": [],
   "source": [
    "# 아래 링크 '주소'와  '링크이름' 을 dict 의 list 형태로 가져오기 \n",
    "\n",
    "# <ol>\n",
    "#   <li><a href=\"http://www.naver.com\">네이버</a></li>\n",
    "#   <li><a href=\"hrrp://www.daum.net\">daum</a></li>\n",
    "# </ol>\n",
    "\n",
    "\n",
    "# 결과예)\n",
    "\n",
    "# [\n",
    "#     {\n",
    "#         url: \"http://www.naver.com\",\n",
    "#         link: \"네이버\"\n",
    "#     },\n",
    "#     {\n",
    "#         url: \"http://www.daum.net\",\n",
    "#         link: \"daum\"\n",
    "#     },\n",
    "# ]\n"
   ]
  },
  {
   "cell_type": "code",
   "execution_count": 44,
   "metadata": {},
   "outputs": [
    {
     "data": {
      "text/plain": [
       "[{'url': 'https://www.naver.com', 'link': '네이버'},\n",
       " {'url': 'https://www.daum.net', 'link': 'DAUM'}]"
      ]
     },
     "execution_count": 44,
     "metadata": {},
     "output_type": "execute_result"
    }
   ],
   "source": [
    "[\n",
    "    {\n",
    "        \"url\": item.attrs.get(\"href\"),\n",
    "        \"link\": item.text.strip()\n",
    "    }\n",
    "    \n",
    "    for item\n",
    "    in data.select(\"ol li a\")\n",
    "]"
   ]
  },
  {
   "cell_type": "markdown",
   "metadata": {},
   "source": [
    "## element 를 제거하려면? --> decompose()"
   ]
  },
  {
   "cell_type": "code",
   "execution_count": 48,
   "metadata": {},
   "outputs": [
    {
     "data": {
      "text/plain": [
       "[<tr>\n",
       " <th>제목</th>\n",
       " <th>가격</th>\n",
       " </tr>, <tr>\n",
       " <td>1. 이것이 파이썬이다</td>\n",
       " <td><b>[도서]</b> 19,200원</td>\n",
       " </tr>, <tr>\n",
       " <td>2. 저것도 파이썬이다</td>\n",
       " <td><b>[할인]</b> 12,800원</td>\n",
       " </tr>, <tr>\n",
       " <td>3. 그래도 파이썬?</td>\n",
       " <td><b>[중고]</b> 6,500원</td>\n",
       " </tr>]"
      ]
     },
     "execution_count": 48,
     "metadata": {},
     "output_type": "execute_result"
    }
   ],
   "source": [
    "row_elements = data.select_one(\"#books\").select(\"tr\")\n",
    "row_elements"
   ]
  },
  {
   "cell_type": "code",
   "execution_count": 49,
   "metadata": {},
   "outputs": [
    {
     "data": {
      "text/plain": [
       "4"
      ]
     },
     "execution_count": 49,
     "metadata": {},
     "output_type": "execute_result"
    }
   ],
   "source": [
    "len(row_elements)"
   ]
  },
  {
   "cell_type": "code",
   "execution_count": 50,
   "metadata": {},
   "outputs": [],
   "source": [
    "# comprehension 을 사용하여 만들어보자\n",
    "\"\"\"\n",
    "<결과 예시>\n",
    "[{'제목': '이것이 파이썬이다', '가격': '[도서] 19,200원'},\n",
    " {'제목': '저것도 파이썬이다', '가격': '[할인] 12,800원'},\n",
    " {'제목': '그래도 파이썬인가?', '가격': '[중고] 6,500원'}]\n",
    "\"\"\"\n",
    "None"
   ]
  },
  {
   "cell_type": "code",
   "execution_count": 63,
   "metadata": {},
   "outputs": [
    {
     "data": {
      "text/plain": [
       "[{'제목': '1. 이것이 파이썬이다', '가격': '[도서] 19,200원'},\n",
       " {'제목': '2. 저것도 파이썬이다', '가격': '[할인] 12,800원'},\n",
       " {'제목': '3. 그래도 파이썬?', '가격': '[중고] 6,500원'}]"
      ]
     },
     "execution_count": 63,
     "metadata": {},
     "output_type": "execute_result"
    }
   ],
   "source": [
    "[\n",
    "    {\n",
    "        #\"제목\" : element.select_one(\"td:first-child\").text.strip()\n",
    "        \"제목\" : element.select(\"td\")[0].text.strip(),\n",
    "        #\"가격\" : element.select_one(\"td:nth-child(2)\").text.strip()\n",
    "        \"가격\" : element.select(\"td\")[1].text.strip()\n",
    "    }\n",
    "    \n",
    "    for element in row_elements\n",
    "    if element.select_one(\"td\")\n",
    "]"
   ]
  },
  {
   "cell_type": "code",
   "execution_count": 64,
   "metadata": {},
   "outputs": [],
   "source": [
    "# 가격 앞의 [도서], [할인].. 제거하려면?\n",
    "# <td><b>[중고]</b> 6,500원</td>        \n",
    "\n",
    "# <td> element  안의 <b> element 를 제거하고 싶다.\n",
    "\n",
    "# element 의 decompose () 사용"
   ]
  },
  {
   "cell_type": "code",
   "execution_count": 69,
   "metadata": {},
   "outputs": [
    {
     "name": "stdout",
     "output_type": "stream",
     "text": [
      "decompose() 전 <td><b>[도서]</b> 19,200원</td>\n",
      "decompose() 후 <td> 19,200원</td>\n",
      "decompose() 전 <td><b>[할인]</b> 12,800원</td>\n",
      "decompose() 후 <td> 12,800원</td>\n",
      "decompose() 전 <td><b>[중고]</b> 6,500원</td>\n",
      "decompose() 후 <td> 6,500원</td>\n"
     ]
    },
    {
     "data": {
      "text/plain": [
       "[{'제목': '1. 이것이 파이썬이다', '가격': '19,200원'},\n",
       " {'제목': '2. 저것도 파이썬이다', '가격': '12,800원'},\n",
       " {'제목': '3. 그래도 파이썬?', '가격': '6,500원'}]"
      ]
     },
     "execution_count": 69,
     "metadata": {},
     "output_type": "execute_result"
    }
   ],
   "source": [
    "data = BeautifulSoup(html, \"html.parser\")\n",
    "row_elements = data.select_one(\"#books\").select(\"tr\")\n",
    "\n",
    "result = []\n",
    "for row in row_elements:\n",
    "    if row.select_one(\"td\"):\n",
    "        price_element = row.select_one(\"td:nth-child(2)\")\n",
    "        print('decompose() 전', price_element)\n",
    "        price_element.select_one('b').decompose() # <b> element 가 제거 됨.\n",
    "        print('decompose() 후', price_element)\n",
    "        \n",
    "        item = {\n",
    "            \"제목\" : row.select_one(\"td:first-child\").text.strip(),\n",
    "            \"가격\" : price_element.text.strip()\n",
    "        }\n",
    "        result.append(item)\n",
    "        \n",
    "result"
   ]
  },
  {
   "cell_type": "markdown",
   "metadata": {},
   "source": [
    "### 가격을 숫자타입으로 파싱..\n",
    "'19,200원' --> 19200 int 타입으로.."
   ]
  },
  {
   "cell_type": "code",
   "execution_count": 73,
   "metadata": {},
   "outputs": [
    {
     "data": {
      "text/plain": [
       "1232200"
      ]
     },
     "execution_count": 73,
     "metadata": {},
     "output_type": "execute_result"
    }
   ],
   "source": [
    "myStr = '1,232,200원'\n",
    "myStr = myStr.replace(',', '')  # 중간의 콤마 제거\n",
    "myStr = myStr[:-1]  # 끝의 한글자 제거\n",
    "myStr\n",
    "\n",
    "num = int(myStr)\n",
    "num"
   ]
  },
  {
   "cell_type": "code",
   "execution_count": 74,
   "metadata": {},
   "outputs": [
    {
     "name": "stdout",
     "output_type": "stream",
     "text": [
      "decompose() 전 <td><b>[도서]</b> 19,200원</td>\n",
      "decompose() 후 <td> 19,200원</td>\n",
      "decompose() 전 <td><b>[할인]</b> 12,800원</td>\n",
      "decompose() 후 <td> 12,800원</td>\n",
      "decompose() 전 <td><b>[중고]</b> 6,500원</td>\n",
      "decompose() 후 <td> 6,500원</td>\n"
     ]
    },
    {
     "data": {
      "text/plain": [
       "[{'제목': '1. 이것이 파이썬이다', '가격': 19200},\n",
       " {'제목': '2. 저것도 파이썬이다', '가격': 12800},\n",
       " {'제목': '3. 그래도 파이썬?', '가격': 6500}]"
      ]
     },
     "execution_count": 74,
     "metadata": {},
     "output_type": "execute_result"
    }
   ],
   "source": [
    "data = BeautifulSoup(html, \"html.parser\")\n",
    "row_elements = data.select_one(\"#books\").select(\"tr\")\n",
    "\n",
    "result = []\n",
    "for row in row_elements:\n",
    "    if row.select_one(\"td\"):\n",
    "        price_element = row.select_one(\"td:nth-child(2)\")\n",
    "        print('decompose() 전', price_element)\n",
    "        price_element.select_one('b').decompose() # <b> element 가 제거 됨.\n",
    "        print('decompose() 후', price_element)\n",
    "        \n",
    "        item = {\n",
    "            \"제목\" : row.select_one(\"td:first-child\").text.strip(),\n",
    "            \"가격\" : int(price_element.text.strip().replace(',', '')[:-1])\n",
    "        }\n",
    "        result.append(item)\n",
    "        \n",
    "result"
   ]
  },
  {
   "cell_type": "code",
   "execution_count": null,
   "metadata": {},
   "outputs": [],
   "source": []
  },
  {
   "cell_type": "code",
   "execution_count": null,
   "metadata": {},
   "outputs": [],
   "source": []
  },
  {
   "cell_type": "code",
   "execution_count": null,
   "metadata": {},
   "outputs": [],
   "source": []
  },
  {
   "cell_type": "code",
   "execution_count": null,
   "metadata": {},
   "outputs": [],
   "source": []
  },
  {
   "cell_type": "markdown",
   "metadata": {},
   "source": [
    "#### 못 찾으면?"
   ]
  },
  {
   "cell_type": "code",
   "execution_count": 52,
   "metadata": {},
   "outputs": [
    {
     "data": {
      "text/plain": [
       "[]"
      ]
     },
     "execution_count": 52,
     "metadata": {},
     "output_type": "execute_result"
    }
   ],
   "source": [
    "data.select(\".xxx\")  # empty list"
   ]
  },
  {
   "cell_type": "code",
   "execution_count": 54,
   "metadata": {},
   "outputs": [],
   "source": [
    "data.select_one(\".xxx\")  # None 리턴"
   ]
  },
  {
   "cell_type": "code",
   "execution_count": null,
   "metadata": {},
   "outputs": [],
   "source": []
  }
 ],
 "metadata": {
  "kernelspec": {
   "display_name": "Python 3",
   "language": "python",
   "name": "python3"
  },
  "language_info": {
   "codemirror_mode": {
    "name": "ipython",
    "version": 3
   },
   "file_extension": ".py",
   "mimetype": "text/x-python",
   "name": "python",
   "nbconvert_exporter": "python",
   "pygments_lexer": "ipython3",
   "version": "3.7.4"
  }
 },
 "nbformat": 4,
 "nbformat_minor": 2
}
