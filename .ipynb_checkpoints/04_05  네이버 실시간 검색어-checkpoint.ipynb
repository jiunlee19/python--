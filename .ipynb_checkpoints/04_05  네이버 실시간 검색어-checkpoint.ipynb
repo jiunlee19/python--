{
 "cells": [
  {
   "cell_type": "markdown",
   "metadata": {},
   "source": [
    "# 네이버 실시간 검색어\n",
    "JSON"
   ]
  },
  {
   "cell_type": "code",
   "execution_count": 1,
   "metadata": {},
   "outputs": [],
   "source": [
    "url = \"https://apis.naver.com/mobile_main/srchrank/srchrank?frm=main&ag=all&gr=4&ma=2&si=2&en=2&sp=2\""
   ]
  },
  {
   "cell_type": "code",
   "execution_count": 2,
   "metadata": {},
   "outputs": [],
   "source": [
    "# 네이버 실검 20개 출력하기"
   ]
  },
  {
   "cell_type": "code",
   "execution_count": 1,
   "metadata": {},
   "outputs": [
    {
     "name": "stdout",
     "output_type": "stream",
     "text": [
      "['역삼동 사랑의 도시락', '신라젠', '김수정', '네이처', '동대문구청', '히든 피겨스', '대전 오렌지타운', '더 라스트 오브 어스 2', '금토드라마', '화차', '백아연', '송유근', '서산 돼지찌개집', '이인영', '류준열 혜리', '토트넘 맨유', '위키미키', '볼빨간사춘기', '싸이월드', '보이스트롯']\n"
     ]
    }
   ],
   "source": [
    "import requests\n",
    "from bs4 import BeautifulSoup\n",
    "url = \"https://apis.naver.com/mobile_main/srchrank/srchrank?frm=main&ag=40s&gr=4&ma=2&si=2&en=2&sp=2\"\n",
    "response = requests.get(url)\n",
    "jsondata = response.json()\n",
    "itemList = jsondata['data']\n",
    "result = [\n",
    "    item['keyword']\n",
    "    for item in itemList\n",
    "]\n",
    "print(result)"
   ]
  },
  {
   "cell_type": "code",
   "execution_count": null,
   "metadata": {},
   "outputs": [],
   "source": []
  },
  {
   "cell_type": "code",
   "execution_count": null,
   "metadata": {},
   "outputs": [],
   "source": []
  },
  {
   "cell_type": "code",
   "execution_count": null,
   "metadata": {},
   "outputs": [],
   "source": []
  }
 ],
 "metadata": {
  "kernelspec": {
   "display_name": "Python 3",
   "language": "python",
   "name": "python3"
  },
  "language_info": {
   "codemirror_mode": {
    "name": "ipython",
    "version": 3
   },
   "file_extension": ".py",
   "mimetype": "text/x-python",
   "name": "python",
   "nbconvert_exporter": "python",
   "pygments_lexer": "ipython3",
   "version": "3.7.4"
  }
 },
 "nbformat": 4,
 "nbformat_minor": 2
}
