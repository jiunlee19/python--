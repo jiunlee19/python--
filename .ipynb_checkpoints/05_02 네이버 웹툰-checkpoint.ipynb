{
 "cells": [
  {
   "cell_type": "markdown",
   "metadata": {},
   "source": [
    "# 네이버 웹툰\n",
    "이미지 다운로드 + header"
   ]
  },
  {
   "cell_type": "code",
   "execution_count": 1,
   "metadata": {},
   "outputs": [],
   "source": [
    "# 네이버 웹툰은\n",
    "# 한 편이 여러개의 이미지로 잘개 쪼개져 있다.\n",
    "# 이미지 url 들을 불러와서 각 이미지 다운로드"
   ]
  },
  {
   "cell_type": "code",
   "execution_count": 2,
   "metadata": {},
   "outputs": [],
   "source": [
    "import requests\n",
    "from bs4 import BeautifulSoup\n",
    "\n",
    "import urllib.parse as urlparser\n",
    "from os.path import basename, splitext, split\n",
    "from IPython.display import Image"
   ]
  },
  {
   "cell_type": "code",
   "execution_count": 4,
   "metadata": {},
   "outputs": [],
   "source": [
    "url = \"https://comic.naver.com/webtoon/detail.nhn?titleId=318995&no=471&weekday=fri\""
   ]
  },
  {
   "cell_type": "code",
   "execution_count": 6,
   "metadata": {},
   "outputs": [
    {
     "data": {
      "text/plain": [
       "<Response [200]>"
      ]
     },
     "execution_count": 6,
     "metadata": {},
     "output_type": "execute_result"
    }
   ],
   "source": [
    "response = requests.get(url)\n",
    "response"
   ]
  },
  {
   "cell_type": "code",
   "execution_count": 7,
   "metadata": {},
   "outputs": [],
   "source": [
    "dom = BeautifulSoup(response.text, \"html.parser\")"
   ]
  },
  {
   "cell_type": "code",
   "execution_count": 8,
   "metadata": {},
   "outputs": [],
   "source": [
    "# TODO\n",
    "# img 의 url 들 담아오기"
   ]
  },
  {
   "cell_type": "code",
   "execution_count": 12,
   "metadata": {},
   "outputs": [
    {
     "data": {
      "text/plain": [
       "87"
      ]
     },
     "execution_count": 12,
     "metadata": {},
     "output_type": "execute_result"
    }
   ],
   "source": [
    "elements = dom.select(\"#comic_view_area .wt_viewer > img\")\n",
    "len(elements)"
   ]
  },
  {
   "cell_type": "code",
   "execution_count": 13,
   "metadata": {},
   "outputs": [
    {
     "data": {
      "text/plain": [
       "['https://image-comic.pstatic.net/webtoon/318995/471/20200515131316_633a31c650b3bd32e33694d3310edc8c_IMAG01_1.jpg',\n",
       " 'https://image-comic.pstatic.net/webtoon/318995/471/20200515131316_633a31c650b3bd32e33694d3310edc8c_IMAG01_2.jpg',\n",
       " 'https://image-comic.pstatic.net/webtoon/318995/471/20200515131316_633a31c650b3bd32e33694d3310edc8c_IMAG01_3.jpg',\n",
       " 'https://image-comic.pstatic.net/webtoon/318995/471/20200515131316_633a31c650b3bd32e33694d3310edc8c_IMAG01_4.jpg',\n",
       " 'https://image-comic.pstatic.net/webtoon/318995/471/20200515131316_633a31c650b3bd32e33694d3310edc8c_IMAG01_5.jpg',\n",
       " 'https://image-comic.pstatic.net/webtoon/318995/471/20200515131316_633a31c650b3bd32e33694d3310edc8c_IMAG01_6.jpg',\n",
       " 'https://image-comic.pstatic.net/webtoon/318995/471/20200515131316_633a31c650b3bd32e33694d3310edc8c_IMAG01_7.jpg',\n",
       " 'https://image-comic.pstatic.net/webtoon/318995/471/20200515131316_633a31c650b3bd32e33694d3310edc8c_IMAG01_8.jpg',\n",
       " 'https://image-comic.pstatic.net/webtoon/318995/471/20200515131316_633a31c650b3bd32e33694d3310edc8c_IMAG01_9.jpg',\n",
       " 'https://image-comic.pstatic.net/webtoon/318995/471/20200515131316_633a31c650b3bd32e33694d3310edc8c_IMAG01_10.jpg',\n",
       " 'https://image-comic.pstatic.net/webtoon/318995/471/20200515131316_633a31c650b3bd32e33694d3310edc8c_IMAG01_11.jpg',\n",
       " 'https://image-comic.pstatic.net/webtoon/318995/471/20200515131316_633a31c650b3bd32e33694d3310edc8c_IMAG01_12.jpg',\n",
       " 'https://image-comic.pstatic.net/webtoon/318995/471/20200515131316_633a31c650b3bd32e33694d3310edc8c_IMAG01_13.jpg',\n",
       " 'https://image-comic.pstatic.net/webtoon/318995/471/20200515131316_633a31c650b3bd32e33694d3310edc8c_IMAG01_14.jpg',\n",
       " 'https://image-comic.pstatic.net/webtoon/318995/471/20200515131316_633a31c650b3bd32e33694d3310edc8c_IMAG01_15.jpg',\n",
       " 'https://image-comic.pstatic.net/webtoon/318995/471/20200515131316_633a31c650b3bd32e33694d3310edc8c_IMAG01_16.jpg',\n",
       " 'https://image-comic.pstatic.net/webtoon/318995/471/20200515131316_633a31c650b3bd32e33694d3310edc8c_IMAG01_17.jpg',\n",
       " 'https://image-comic.pstatic.net/webtoon/318995/471/20200515131316_633a31c650b3bd32e33694d3310edc8c_IMAG01_18.jpg',\n",
       " 'https://image-comic.pstatic.net/webtoon/318995/471/20200515131316_633a31c650b3bd32e33694d3310edc8c_IMAG01_19.jpg',\n",
       " 'https://image-comic.pstatic.net/webtoon/318995/471/20200515131316_633a31c650b3bd32e33694d3310edc8c_IMAG01_20.jpg',\n",
       " 'https://image-comic.pstatic.net/webtoon/318995/471/20200515131316_633a31c650b3bd32e33694d3310edc8c_IMAG01_21.jpg',\n",
       " 'https://image-comic.pstatic.net/webtoon/318995/471/20200515131316_633a31c650b3bd32e33694d3310edc8c_IMAG01_22.jpg',\n",
       " 'https://image-comic.pstatic.net/webtoon/318995/471/20200515131316_633a31c650b3bd32e33694d3310edc8c_IMAG01_23.jpg',\n",
       " 'https://image-comic.pstatic.net/webtoon/318995/471/20200515131316_633a31c650b3bd32e33694d3310edc8c_IMAG01_24.jpg',\n",
       " 'https://image-comic.pstatic.net/webtoon/318995/471/20200515131316_633a31c650b3bd32e33694d3310edc8c_IMAG01_25.jpg',\n",
       " 'https://image-comic.pstatic.net/webtoon/318995/471/20200515131316_633a31c650b3bd32e33694d3310edc8c_IMAG01_26.jpg',\n",
       " 'https://image-comic.pstatic.net/webtoon/318995/471/20200515131316_633a31c650b3bd32e33694d3310edc8c_IMAG01_27.jpg',\n",
       " 'https://image-comic.pstatic.net/webtoon/318995/471/20200515131316_633a31c650b3bd32e33694d3310edc8c_IMAG01_28.jpg',\n",
       " 'https://image-comic.pstatic.net/webtoon/318995/471/20200515131316_633a31c650b3bd32e33694d3310edc8c_IMAG01_29.jpg',\n",
       " 'https://image-comic.pstatic.net/webtoon/318995/471/20200515131316_633a31c650b3bd32e33694d3310edc8c_IMAG01_30.jpg',\n",
       " 'https://image-comic.pstatic.net/webtoon/318995/471/20200515131316_633a31c650b3bd32e33694d3310edc8c_IMAG01_31.jpg',\n",
       " 'https://image-comic.pstatic.net/webtoon/318995/471/20200515131316_633a31c650b3bd32e33694d3310edc8c_IMAG01_32.jpg',\n",
       " 'https://image-comic.pstatic.net/webtoon/318995/471/20200515131316_633a31c650b3bd32e33694d3310edc8c_IMAG01_33.jpg',\n",
       " 'https://image-comic.pstatic.net/webtoon/318995/471/20200515131316_633a31c650b3bd32e33694d3310edc8c_IMAG01_34.jpg',\n",
       " 'https://image-comic.pstatic.net/webtoon/318995/471/20200515131316_633a31c650b3bd32e33694d3310edc8c_IMAG01_35.jpg',\n",
       " 'https://image-comic.pstatic.net/webtoon/318995/471/20200515131316_633a31c650b3bd32e33694d3310edc8c_IMAG01_36.jpg',\n",
       " 'https://image-comic.pstatic.net/webtoon/318995/471/20200515131316_633a31c650b3bd32e33694d3310edc8c_IMAG01_37.jpg',\n",
       " 'https://image-comic.pstatic.net/webtoon/318995/471/20200515131316_633a31c650b3bd32e33694d3310edc8c_IMAG01_38.jpg',\n",
       " 'https://image-comic.pstatic.net/webtoon/318995/471/20200515131316_633a31c650b3bd32e33694d3310edc8c_IMAG01_39.jpg',\n",
       " 'https://image-comic.pstatic.net/webtoon/318995/471/20200515131316_633a31c650b3bd32e33694d3310edc8c_IMAG01_40.jpg',\n",
       " 'https://image-comic.pstatic.net/webtoon/318995/471/20200515131316_633a31c650b3bd32e33694d3310edc8c_IMAG01_41.jpg',\n",
       " 'https://image-comic.pstatic.net/webtoon/318995/471/20200515131316_633a31c650b3bd32e33694d3310edc8c_IMAG01_42.jpg',\n",
       " 'https://image-comic.pstatic.net/webtoon/318995/471/20200515131316_633a31c650b3bd32e33694d3310edc8c_IMAG01_43.jpg',\n",
       " 'https://image-comic.pstatic.net/webtoon/318995/471/20200515131316_633a31c650b3bd32e33694d3310edc8c_IMAG01_44.jpg',\n",
       " 'https://image-comic.pstatic.net/webtoon/318995/471/20200515131316_633a31c650b3bd32e33694d3310edc8c_IMAG01_45.jpg',\n",
       " 'https://image-comic.pstatic.net/webtoon/318995/471/20200515131316_633a31c650b3bd32e33694d3310edc8c_IMAG01_46.jpg',\n",
       " 'https://image-comic.pstatic.net/webtoon/318995/471/20200515131316_633a31c650b3bd32e33694d3310edc8c_IMAG01_47.jpg',\n",
       " 'https://image-comic.pstatic.net/webtoon/318995/471/20200515131316_633a31c650b3bd32e33694d3310edc8c_IMAG01_48.jpg',\n",
       " 'https://image-comic.pstatic.net/webtoon/318995/471/20200515131316_633a31c650b3bd32e33694d3310edc8c_IMAG01_49.jpg',\n",
       " 'https://image-comic.pstatic.net/webtoon/318995/471/20200515131316_633a31c650b3bd32e33694d3310edc8c_IMAG01_50.jpg',\n",
       " 'https://image-comic.pstatic.net/webtoon/318995/471/20200515131316_633a31c650b3bd32e33694d3310edc8c_IMAG01_51.jpg',\n",
       " 'https://image-comic.pstatic.net/webtoon/318995/471/20200515131316_633a31c650b3bd32e33694d3310edc8c_IMAG01_52.jpg',\n",
       " 'https://image-comic.pstatic.net/webtoon/318995/471/20200515131316_633a31c650b3bd32e33694d3310edc8c_IMAG01_53.jpg',\n",
       " 'https://image-comic.pstatic.net/webtoon/318995/471/20200515131316_633a31c650b3bd32e33694d3310edc8c_IMAG01_54.jpg',\n",
       " 'https://image-comic.pstatic.net/webtoon/318995/471/20200515131316_633a31c650b3bd32e33694d3310edc8c_IMAG01_55.jpg',\n",
       " 'https://image-comic.pstatic.net/webtoon/318995/471/20200515131316_633a31c650b3bd32e33694d3310edc8c_IMAG01_56.jpg',\n",
       " 'https://image-comic.pstatic.net/webtoon/318995/471/20200515131316_633a31c650b3bd32e33694d3310edc8c_IMAG01_57.jpg',\n",
       " 'https://image-comic.pstatic.net/webtoon/318995/471/20200515131316_633a31c650b3bd32e33694d3310edc8c_IMAG01_58.jpg',\n",
       " 'https://image-comic.pstatic.net/webtoon/318995/471/20200515131316_633a31c650b3bd32e33694d3310edc8c_IMAG01_59.jpg',\n",
       " 'https://image-comic.pstatic.net/webtoon/318995/471/20200515131316_633a31c650b3bd32e33694d3310edc8c_IMAG01_60.jpg',\n",
       " 'https://image-comic.pstatic.net/webtoon/318995/471/20200515131316_633a31c650b3bd32e33694d3310edc8c_IMAG01_61.jpg',\n",
       " 'https://image-comic.pstatic.net/webtoon/318995/471/20200515131316_633a31c650b3bd32e33694d3310edc8c_IMAG01_62.jpg',\n",
       " 'https://image-comic.pstatic.net/webtoon/318995/471/20200515131316_633a31c650b3bd32e33694d3310edc8c_IMAG01_63.jpg',\n",
       " 'https://image-comic.pstatic.net/webtoon/318995/471/20200515131316_633a31c650b3bd32e33694d3310edc8c_IMAG01_64.jpg',\n",
       " 'https://image-comic.pstatic.net/webtoon/318995/471/20200515131316_633a31c650b3bd32e33694d3310edc8c_IMAG01_65.jpg',\n",
       " 'https://image-comic.pstatic.net/webtoon/318995/471/20200515131316_633a31c650b3bd32e33694d3310edc8c_IMAG01_66.jpg',\n",
       " 'https://image-comic.pstatic.net/webtoon/318995/471/20200515131316_633a31c650b3bd32e33694d3310edc8c_IMAG01_67.jpg',\n",
       " 'https://image-comic.pstatic.net/webtoon/318995/471/20200515131316_633a31c650b3bd32e33694d3310edc8c_IMAG01_68.jpg',\n",
       " 'https://image-comic.pstatic.net/webtoon/318995/471/20200515131316_633a31c650b3bd32e33694d3310edc8c_IMAG01_69.jpg',\n",
       " 'https://image-comic.pstatic.net/webtoon/318995/471/20200515131316_633a31c650b3bd32e33694d3310edc8c_IMAG01_70.jpg',\n",
       " 'https://image-comic.pstatic.net/webtoon/318995/471/20200515131316_633a31c650b3bd32e33694d3310edc8c_IMAG01_71.jpg',\n",
       " 'https://image-comic.pstatic.net/webtoon/318995/471/20200515131316_633a31c650b3bd32e33694d3310edc8c_IMAG01_72.jpg',\n",
       " 'https://image-comic.pstatic.net/webtoon/318995/471/20200515131316_633a31c650b3bd32e33694d3310edc8c_IMAG01_73.jpg',\n",
       " 'https://image-comic.pstatic.net/webtoon/318995/471/20200515131316_633a31c650b3bd32e33694d3310edc8c_IMAG01_74.jpg',\n",
       " 'https://image-comic.pstatic.net/webtoon/318995/471/20200515131316_633a31c650b3bd32e33694d3310edc8c_IMAG01_75.jpg',\n",
       " 'https://image-comic.pstatic.net/webtoon/318995/471/20200515131316_633a31c650b3bd32e33694d3310edc8c_IMAG01_76.jpg',\n",
       " 'https://image-comic.pstatic.net/webtoon/318995/471/20200515131316_633a31c650b3bd32e33694d3310edc8c_IMAG01_77.jpg',\n",
       " 'https://image-comic.pstatic.net/webtoon/318995/471/20200515131316_633a31c650b3bd32e33694d3310edc8c_IMAG01_78.jpg',\n",
       " 'https://image-comic.pstatic.net/webtoon/318995/471/20200515131316_633a31c650b3bd32e33694d3310edc8c_IMAG01_79.jpg',\n",
       " 'https://image-comic.pstatic.net/webtoon/318995/471/20200515131316_633a31c650b3bd32e33694d3310edc8c_IMAG01_80.jpg',\n",
       " 'https://image-comic.pstatic.net/webtoon/318995/471/20200515131316_633a31c650b3bd32e33694d3310edc8c_IMAG01_81.jpg',\n",
       " 'https://image-comic.pstatic.net/webtoon/318995/471/20200515131316_633a31c650b3bd32e33694d3310edc8c_IMAG01_82.jpg',\n",
       " 'https://image-comic.pstatic.net/webtoon/318995/471/20200515131316_633a31c650b3bd32e33694d3310edc8c_IMAG01_83.jpg',\n",
       " 'https://image-comic.pstatic.net/webtoon/318995/471/20200515131316_633a31c650b3bd32e33694d3310edc8c_IMAG01_84.jpg',\n",
       " 'https://image-comic.pstatic.net/webtoon/318995/471/20200515131316_633a31c650b3bd32e33694d3310edc8c_IMAG01_85.jpg',\n",
       " 'https://image-comic.pstatic.net/webtoon/318995/471/20200515131316_633a31c650b3bd32e33694d3310edc8c_IMAG01_86.jpg',\n",
       " 'https://image-comic.pstatic.net/webtoon/318995/471/20200515131316_633a31c650b3bd32e33694d3310edc8c_IMAG01_87.jpg']"
      ]
     },
     "execution_count": 13,
     "metadata": {},
     "output_type": "execute_result"
    }
   ],
   "source": [
    "[\n",
    "    element.attrs['src']\n",
    "    for element in elements\n",
    "]"
   ]
  },
  {
   "cell_type": "markdown",
   "metadata": {},
   "source": [
    "## 이미지 한장 다운로드"
   ]
  },
  {
   "cell_type": "code",
   "execution_count": 14,
   "metadata": {},
   "outputs": [],
   "source": [
    "img_url = 'https://image-comic.pstatic.net/webtoon/318995/471/20200515131316_633a31c650b3bd32e33694d3310edc8c_IMAG01_1.jpg'"
   ]
  },
  {
   "cell_type": "code",
   "execution_count": 16,
   "metadata": {},
   "outputs": [
    {
     "data": {
      "text/plain": [
       "<Response [403]>"
      ]
     },
     "execution_count": 16,
     "metadata": {},
     "output_type": "execute_result"
    }
   ],
   "source": [
    "response = requests.get(img_url)\n",
    "response\n",
    "\n",
    "# 403 에러 발생 : 권한 에러"
   ]
  },
  {
   "cell_type": "markdown",
   "metadata": {},
   "source": [
    "### header 정보 추가"
   ]
  },
  {
   "cell_type": "code",
   "execution_count": 18,
   "metadata": {},
   "outputs": [],
   "source": [
    "headers = {\n",
    "    \"User-Agent\" : \"Mozilla/5.0 (Windows NT 10.0; Win64; x64) AppleWebKit/537.36 (KHTML, like Gecko) Chrome/83.0.4103.106 Safari/537.36\"\n",
    "}"
   ]
  },
  {
   "cell_type": "code",
   "execution_count": 19,
   "metadata": {},
   "outputs": [
    {
     "data": {
      "text/plain": [
       "<Response [200]>"
      ]
     },
     "execution_count": 19,
     "metadata": {},
     "output_type": "execute_result"
    }
   ],
   "source": [
    "response = requests.get(img_url, headers=headers)\n",
    "response"
   ]
  },
  {
   "cell_type": "code",
   "execution_count": 22,
   "metadata": {},
   "outputs": [],
   "source": [
    "if response.status_code == 200:\n",
    "    with open('./download/naverwebtoon.jpg', 'wb') as f:\n",
    "        f.write(response.content)"
   ]
  },
  {
   "cell_type": "markdown",
   "metadata": {},
   "source": [
    "## 특정 작품(titleId) 의 특정회차(no) 이미지 크롤링"
   ]
  },
  {
   "cell_type": "code",
   "execution_count": 24,
   "metadata": {},
   "outputs": [],
   "source": [
    "\"\"\"\n",
    "https://comic.naver.com/webtoon/detail.nhn?titleId=318995&no=471\n",
    "\"\"\"\n",
    "None"
   ]
  },
  {
   "cell_type": "code",
   "execution_count": null,
   "metadata": {},
   "outputs": [],
   "source": []
  },
  {
   "cell_type": "code",
   "execution_count": null,
   "metadata": {},
   "outputs": [],
   "source": []
  },
  {
   "cell_type": "code",
   "execution_count": null,
   "metadata": {},
   "outputs": [],
   "source": []
  },
  {
   "cell_type": "code",
   "execution_count": null,
   "metadata": {},
   "outputs": [],
   "source": []
  },
  {
   "cell_type": "code",
   "execution_count": null,
   "metadata": {},
   "outputs": [],
   "source": []
  },
  {
   "cell_type": "code",
   "execution_count": null,
   "metadata": {},
   "outputs": [],
   "source": []
  },
  {
   "cell_type": "code",
   "execution_count": null,
   "metadata": {},
   "outputs": [],
   "source": []
  },
  {
   "cell_type": "code",
   "execution_count": null,
   "metadata": {},
   "outputs": [],
   "source": []
  },
  {
   "cell_type": "code",
   "execution_count": null,
   "metadata": {},
   "outputs": [],
   "source": []
  },
  {
   "cell_type": "code",
   "execution_count": null,
   "metadata": {},
   "outputs": [],
   "source": []
  }
 ],
 "metadata": {
  "kernelspec": {
   "display_name": "Python 3",
   "language": "python",
   "name": "python3"
  },
  "language_info": {
   "codemirror_mode": {
    "name": "ipython",
    "version": 3
   },
   "file_extension": ".py",
   "mimetype": "text/x-python",
   "name": "python",
   "nbconvert_exporter": "python",
   "pygments_lexer": "ipython3",
   "version": "3.7.4"
  }
 },
 "nbformat": 4,
 "nbformat_minor": 2
}
