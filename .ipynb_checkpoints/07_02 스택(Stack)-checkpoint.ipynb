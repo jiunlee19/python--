{
 "cells": [
  {
   "cell_type": "markdown",
   "metadata": {},
   "source": [
    "# 스택(Stack)"
   ]
  },
  {
   "cell_type": "markdown",
   "metadata": {},
   "source": [
    "1. 스택은 '끝' 에서만 데이터에 접근하는 구조\n",
    "2. `LIFO` 구조 (Last-In  Fitst-Out, 후입선출) 구조,  가장 나중에 들어온 데이터가 가장 먼저 나간다\n",
    "    - `FILO` (Fisrt-In Last-Out) 이기도 하다\n"
   ]
  },
  {
   "cell_type": "markdown",
   "metadata": {},
   "source": [
    "<img src=\"https://wayhome25.github.io/assets/post-img/cs/stack.jpg\">"
   ]
  },
  {
   "cell_type": "markdown",
   "metadata": {},
   "source": [
    "### 일상에서의 스택\n",
    "![스택](https://qph.fs.quoracdn.net/main-qimg-abf0634496b7412bef7f857f9457b003.webp)\n",
    "![스택](https://lifeindatastructures.files.wordpress.com/2017/10/22.jpg?w=610&h=&crop=1&zoom=2)"
   ]
  },
  {
   "cell_type": "markdown",
   "metadata": {},
   "source": [
    "## statck 의 ADT (추상 데이터 타입) \n",
    "스택의 동작들\n",
    "\n",
    "- `push` : 스택 맨 끝 (맨 위) 에 데이터 삽입\n",
    "- `pop` : 스택 맨 끝(맨 위)의 데이터 추출 하여 리턴 (스택에서 제거됨)\n",
    "- `peek/top` : 스택 맨 끝 (맨 위)의 데이터 조회 (스택에서 제거하진 않는다)\n",
    "- `empty` : 스택이 비어있는지 확인\n",
    "- `size` : 스택의 크기 (데이터 개수) 확인\n",
    "\n",
    "> '데이터(data)' 와 '아이템(item)' 이 혼용될겁니다"
   ]
  },
  {
   "cell_type": "markdown",
   "metadata": {},
   "source": [
    "# 스택구현1, list 사용\n",
    "append(), pop() 활용"
   ]
  },
  {
   "cell_type": "markdown",
   "metadata": {},
   "source": [
    "# 스택구현2, Node 사용"
   ]
  },
  {
   "cell_type": "code",
   "execution_count": 1,
   "metadata": {},
   "outputs": [],
   "source": [
    "class Node:\n",
    "    def __init__(self, value=None, pointer=None):\n",
    "        self.value = value   # '값'\n",
    "        self.pointer = pointer # '다음 노드에 대한 포인터'"
   ]
  },
  {
   "cell_type": "code",
   "execution_count": null,
   "metadata": {},
   "outputs": [],
   "source": [
    "class Stack:\n",
    "    def __init__(self):\n",
    "        self.top = None   # 스택의 맨 위 (맨 마지막에 push 된 데이터)\n",
    "        self.size = 0     # 스택의 데이터 개수 \n",
    "    \n",
    "    def isEmpty(self):  # 스택이 비어있는지 확인, 비어있으면 True 리턴\n",
    "        return not bool(self.top)\n",
    "    \n",
    "    def push(self, item):\n",
    "        self.top = Node(item, self.top)  # 새로운 Node 생성, top 이동 \n",
    "        self.size += 1   # 데이터 개수 +1 증가\n",
    "        \n",
    "    def pop(self): # top 의 데이터 꺼내어 리턴 (스택에서 제거됨)\n",
    "        if self.size > 0 and self.top:\n",
    "            node = self.top\n",
    "            self.top = node.pointer  # top 은 밑으로 이동\n",
    "            self.size -= 1\n",
    "            return node.value\n",
    "        else:\n",
    "            print(\"Stack is Empty\")\n",
    "            \n",
    "    \n",
    "    def peek(self): # top 의 데이터 리턴 (스택에서 제거 안됨)\n",
    "        if self.size > 0 and self.top:\n",
    "            return self.top.value\n",
    "        else:\n",
    "            print(\"Stack is Empty\")\n",
    "        \n",
    "        \n",
    "        "
   ]
  },
  {
   "cell_type": "code",
   "execution_count": 4,
   "metadata": {},
   "outputs": [
    {
     "data": {
      "text/plain": [
       "(True, False, False, True)"
      ]
     },
     "execution_count": 4,
     "metadata": {},
     "output_type": "execute_result"
    }
   ],
   "source": [
    "bool(100), bool(0), bool([]), bool([10, 20, 30])"
   ]
  },
  {
   "cell_type": "code",
   "execution_count": null,
   "metadata": {},
   "outputs": [],
   "source": []
  },
  {
   "cell_type": "code",
   "execution_count": null,
   "metadata": {},
   "outputs": [],
   "source": []
  },
  {
   "cell_type": "code",
   "execution_count": null,
   "metadata": {},
   "outputs": [],
   "source": []
  },
  {
   "cell_type": "code",
   "execution_count": null,
   "metadata": {},
   "outputs": [],
   "source": []
  },
  {
   "cell_type": "code",
   "execution_count": null,
   "metadata": {},
   "outputs": [],
   "source": []
  },
  {
   "cell_type": "code",
   "execution_count": null,
   "metadata": {},
   "outputs": [],
   "source": []
  },
  {
   "cell_type": "code",
   "execution_count": null,
   "metadata": {},
   "outputs": [],
   "source": []
  },
  {
   "cell_type": "code",
   "execution_count": null,
   "metadata": {},
   "outputs": [],
   "source": []
  },
  {
   "cell_type": "code",
   "execution_count": null,
   "metadata": {},
   "outputs": [],
   "source": []
  },
  {
   "cell_type": "code",
   "execution_count": null,
   "metadata": {},
   "outputs": [],
   "source": []
  },
  {
   "cell_type": "code",
   "execution_count": null,
   "metadata": {},
   "outputs": [],
   "source": []
  },
  {
   "cell_type": "code",
   "execution_count": null,
   "metadata": {},
   "outputs": [],
   "source": []
  },
  {
   "cell_type": "code",
   "execution_count": null,
   "metadata": {},
   "outputs": [],
   "source": []
  }
 ],
 "metadata": {
  "kernelspec": {
   "display_name": "Python 3",
   "language": "python",
   "name": "python3"
  },
  "language_info": {
   "codemirror_mode": {
    "name": "ipython",
    "version": 3
   },
   "file_extension": ".py",
   "mimetype": "text/x-python",
   "name": "python",
   "nbconvert_exporter": "python",
   "pygments_lexer": "ipython3",
   "version": "3.7.4"
  }
 },
 "nbformat": 4,
 "nbformat_minor": 2
}
