{
 "cells": [
  {
   "cell_type": "markdown",
   "metadata": {},
   "source": [
    "# 네이버 연관검색어\n",
    "url + parameter 포함 "
   ]
  },
  {
   "cell_type": "code",
   "execution_count": 1,
   "metadata": {},
   "outputs": [],
   "source": [
    "from bs4 import BeautifulSoup\n",
    "import requests\n",
    "import urllib.parse as urlparser    # url encoding 하기 위해.."
   ]
  },
  {
   "cell_type": "code",
   "execution_count": 5,
   "metadata": {},
   "outputs": [
    {
     "name": "stdout",
     "output_type": "stream",
     "text": [
      "파이썬\n",
      "b'\\xed\\x8c\\x8c\\xec\\x9d\\xb4\\xec\\x8d\\xac'\n",
      "b'\\xc6\\xc4\\xc0\\xcc\\xbd\\xe3'\n",
      "%ED%8C%8C%EC%9D%B4%EC%8D%AC\n"
     ]
    }
   ],
   "source": [
    "keyword = '파이썬'\n",
    "print(keyword)\n",
    "print(keyword.encode('utf-8'))  # utf-8 로 인코딩  한글 1글자 -> 3byte\n",
    "print(keyword.encode('euc-kr')) # euc-kr 로 인코딩  한글 1글자 -> 2byte\n",
    "print(urlparser.quote(keyword))"
   ]
  },
  {
   "cell_type": "code",
   "execution_count": 6,
   "metadata": {},
   "outputs": [
    {
     "data": {
      "text/plain": [
       "'https://search.naver.com/search.naver?sm=top_hty&fbm=1&ie=utf8&query=%ED%8C%8C%EC%9D%B4%EC%8D%AC'"
      ]
     },
     "execution_count": 6,
     "metadata": {},
     "output_type": "execute_result"
    }
   ],
   "source": [
    "keyword = \"파이썬\"\n",
    "url = \"https://search.naver.com/search.naver?sm=top_hty&fbm=1&ie=utf8&query=\" + urlparser.quote(keyword)\n",
    "url"
   ]
  },
  {
   "cell_type": "code",
   "execution_count": 7,
   "metadata": {},
   "outputs": [
    {
     "data": {
      "text/plain": [
       "<Response [200]>"
      ]
     },
     "execution_count": 7,
     "metadata": {},
     "output_type": "execute_result"
    }
   ],
   "source": [
    "response = requests.get(url)\n",
    "response"
   ]
  },
  {
   "cell_type": "code",
   "execution_count": 9,
   "metadata": {},
   "outputs": [],
   "source": [
    "dom = BeautifulSoup(response.text, \"html.parser\")\n",
    "# dom"
   ]
  },
  {
   "cell_type": "code",
   "execution_count": 12,
   "metadata": {},
   "outputs": [
    {
     "name": "stdout",
     "output_type": "stream",
     "text": [
      "10\n"
     ]
    }
   ],
   "source": [
    "elements = dom.select(\"#nx_related_keywords li > a\")\n",
    "print(len(elements))"
   ]
  },
  {
   "cell_type": "code",
   "execution_count": 14,
   "metadata": {},
   "outputs": [
    {
     "data": {
      "text/plain": [
       "['파이썬 프로그래밍',\n",
       " '파이썬 자격증',\n",
       " '파이썬 독학',\n",
       " 'python',\n",
       " '파이썬 설치',\n",
       " '파이썬 다운로드',\n",
       " '파일썬',\n",
       " 'c언어',\n",
       " '파이썬 함수',\n",
       " '파이썬 책']"
      ]
     },
     "execution_count": 14,
     "metadata": {},
     "output_type": "execute_result"
    }
   ],
   "source": [
    "data = [\n",
    "    element.text.strip()\n",
    "    for element in elements\n",
    "]\n",
    "data"
   ]
  },
  {
   "cell_type": "markdown",
   "metadata": {},
   "source": [
    "## 완성본"
   ]
  },
  {
   "cell_type": "code",
   "execution_count": 19,
   "metadata": {},
   "outputs": [
    {
     "name": "stdout",
     "output_type": "stream",
     "text": [
      "['파이썬 프로그래밍', '파이썬 자격증', '파이썬 독학', 'python', '파이썬 설치', '파이썬 다운로드', '파일썬', 'c언어', '파이썬 함수', '파이썬 책']\n",
      "['자바 다운로드', 'java', 'java virtual machine', '마인크래프트 자바', 'java 8', '자바식물', '자바 다운', 'jre 설치', '자바 볼펜', '자바스크립트']\n",
      "['코로나 확진자', '코로나 백신', '미국 코로나', '코로나 개학', '코로나 증상', '코로나19', '코로나 대전', '대전 코로나', '코로나 종식', '중국 코로나']\n"
     ]
    }
   ],
   "source": [
    "from bs4 import BeautifulSoup\n",
    "import requests\n",
    "import urllib.parse as urlparser\n",
    "\n",
    "def naver_related(keyword):\n",
    "    url = \"https://search.naver.com/search.naver?sm=top_hty&fbm=1&ie=utf8&query=\" + urlparser.quote(keyword)\n",
    "    response = requests.get(url)\n",
    "    dom = BeautifulSoup(response.text, 'html.parser')\n",
    "    elements = dom.select(\"#nx_related_keywords li > a\")\n",
    "    data = [\n",
    "        element.text.strip()\n",
    "        for element in elements\n",
    "    ]\n",
    "    return data\n",
    "\n",
    "# print(naver_related('파이썬'))\n",
    "# print(naver_related('자바'))\n",
    "# print(naver_related('코로나'))\n",
    "\n",
    "\n",
    "while True:\n",
    "    keyword = input('검색어 입력: ')\n",
    "    if keyword.lower() == 'quit': break\n",
    "    print(naver_related(keyword))\n"
   ]
  },
  {
   "cell_type": "code",
   "execution_count": null,
   "metadata": {},
   "outputs": [],
   "source": []
  },
  {
   "cell_type": "code",
   "execution_count": null,
   "metadata": {},
   "outputs": [],
   "source": []
  },
  {
   "cell_type": "code",
   "execution_count": null,
   "metadata": {},
   "outputs": [],
   "source": []
  },
  {
   "cell_type": "code",
   "execution_count": null,
   "metadata": {},
   "outputs": [],
   "source": []
  },
  {
   "cell_type": "code",
   "execution_count": null,
   "metadata": {},
   "outputs": [],
   "source": []
  },
  {
   "cell_type": "code",
   "execution_count": null,
   "metadata": {},
   "outputs": [],
   "source": []
  },
  {
   "cell_type": "code",
   "execution_count": null,
   "metadata": {},
   "outputs": [],
   "source": []
  },
  {
   "cell_type": "code",
   "execution_count": null,
   "metadata": {},
   "outputs": [],
   "source": []
  }
 ],
 "metadata": {
  "kernelspec": {
   "display_name": "Python 3",
   "language": "python",
   "name": "python3"
  },
  "language_info": {
   "codemirror_mode": {
    "name": "ipython",
    "version": 3
   },
   "file_extension": ".py",
   "mimetype": "text/x-python",
   "name": "python",
   "nbconvert_exporter": "python",
   "pygments_lexer": "ipython3",
   "version": "3.7.4"
  }
 },
 "nbformat": 4,
 "nbformat_minor": 2
}
