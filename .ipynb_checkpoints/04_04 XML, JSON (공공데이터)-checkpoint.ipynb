{
 "cells": [
  {
   "cell_type": "markdown",
   "metadata": {},
   "source": [
    "# 서울시 공공데이터"
   ]
  },
  {
   "cell_type": "markdown",
   "metadata": {},
   "source": [
    "#### 서울시 지하철 승하차 데이터 \n",
    "http://data.seoul.go.kr/dataList/datasetView.do?infId=OA-12914&srvType=A&serviceKind=1&currentPageNo=1\n",
    "\n",
    "XML 버젼\n",
    "http://openapi.seoul.go.kr:8088/4d46796d7366726f3833774a774955/xml/CardSubwayStatsNew/1/5/20151101  \n",
    "\n",
    "JSON 버젼\n",
    "http://openapi.seoul.go.kr:8088/4d46796d7366726f3833774a774955/json/CardSubwayStatsNew/1/5/20151101"
   ]
  },
  {
   "cell_type": "code",
   "execution_count": 1,
   "metadata": {},
   "outputs": [],
   "source": [
    "#  list 안의 리스트 형태\n",
    "#  [호선,  역이름,  승차인원, 하차인원]\n",
    "\"\"\"\n",
    "[\n",
    "    [1호선, 시청역, 12342, 12345],\n",
    "    [1호선, 서울역, 12523, 34235],\n",
    "    ...\n",
    "    ...\n",
    "    \n",
    "]\n",
    "\"\"\"\n",
    "None"
   ]
  },
  {
   "cell_type": "code",
   "execution_count": 2,
   "metadata": {},
   "outputs": [],
   "source": [
    "# key = \"여러분의 키값\"\n",
    "key = \"4d46796d7366726f3833774a774955\"\n",
    "date = '20200610'\n",
    "end_index = 10"
   ]
  },
  {
   "cell_type": "markdown",
   "metadata": {},
   "source": [
    "# JSON"
   ]
  },
  {
   "cell_type": "code",
   "execution_count": 3,
   "metadata": {},
   "outputs": [
    {
     "data": {
      "text/plain": [
       "'http://openapi.seoul.go.kr:8088/4d46796d7366726f3833774a774955/json/CardSubwayStatsNew/1/10/20200610'"
      ]
     },
     "execution_count": 3,
     "metadata": {},
     "output_type": "execute_result"
    }
   ],
   "source": [
    "req_type = 'json'\n",
    "url = f'http://openapi.seoul.go.kr:8088/{key}/{req_type}/CardSubwayStatsNew/1/{end_index}/{date}'\n",
    "url"
   ]
  },
  {
   "cell_type": "code",
   "execution_count": 4,
   "metadata": {},
   "outputs": [],
   "source": [
    "import requests\n",
    "from bs4 import BeautifulSoup"
   ]
  },
  {
   "cell_type": "code",
   "execution_count": 5,
   "metadata": {},
   "outputs": [
    {
     "data": {
      "text/plain": [
       "<Response [200]>"
      ]
     },
     "execution_count": 5,
     "metadata": {},
     "output_type": "execute_result"
    }
   ],
   "source": [
    "response = requests.get(url)\n",
    "response"
   ]
  },
  {
   "cell_type": "code",
   "execution_count": 8,
   "metadata": {},
   "outputs": [],
   "source": [
    "#response.text"
   ]
  },
  {
   "cell_type": "code",
   "execution_count": 10,
   "metadata": {},
   "outputs": [
    {
     "data": {
      "text/plain": [
       "dict"
      ]
     },
     "execution_count": 10,
     "metadata": {},
     "output_type": "execute_result"
    }
   ],
   "source": [
    "# JSON 텍스트 -> 파이썬 데이터 (list, dict..) 로 변환\n",
    "data = response.json()\n",
    "#data\n",
    "type(data)"
   ]
  },
  {
   "cell_type": "code",
   "execution_count": 11,
   "metadata": {},
   "outputs": [
    {
     "data": {
      "text/plain": [
       "10"
      ]
     },
     "execution_count": 11,
     "metadata": {},
     "output_type": "execute_result"
    }
   ],
   "source": [
    "rows = data[\"CardSubwayStatsNew\"][\"row\"]\n",
    "len(rows)"
   ]
  },
  {
   "cell_type": "code",
   "execution_count": 13,
   "metadata": {},
   "outputs": [
    {
     "data": {
      "text/plain": [
       "[['1호선', '서울역', 40995.0, 38769.0],\n",
       " ['1호선', '시청', 21206.0, 21255.0],\n",
       " ['1호선', '종각', 39605.0, 37610.0],\n",
       " ['1호선', '종로3가', 25128.0, 23953.0],\n",
       " ['1호선', '종로5가', 22810.0, 22416.0],\n",
       " ['1호선', '동대문', 11060.0, 11239.0],\n",
       " ['1호선', '신설동', 14749.0, 14940.0],\n",
       " ['1호선', '제기동', 15750.0, 16317.0],\n",
       " ['1호선', '청량리(서울시립대입구)', 19865.0, 19909.0],\n",
       " ['1호선', '동묘앞', 7829.0, 8252.0]]"
      ]
     },
     "execution_count": 13,
     "metadata": {},
     "output_type": "execute_result"
    }
   ],
   "source": [
    "[\n",
    "    [\n",
    "        row['LINE_NUM'],\n",
    "        row['SUB_STA_NM'],\n",
    "        row['RIDE_PASGR_NUM'],\n",
    "        row['ALIGHT_PASGR_NUM']\n",
    "    ]\n",
    "    for row in rows\n",
    "]"
   ]
  },
  {
   "cell_type": "markdown",
   "metadata": {},
   "source": [
    "# XML"
   ]
  },
  {
   "cell_type": "code",
   "execution_count": 14,
   "metadata": {},
   "outputs": [
    {
     "data": {
      "text/plain": [
       "'http://openapi.seoul.go.kr:8088/4d46796d7366726f3833774a774955/xml/CardSubwayStatsNew/1/10/20200610'"
      ]
     },
     "execution_count": 14,
     "metadata": {},
     "output_type": "execute_result"
    }
   ],
   "source": [
    "req_type = 'xml'\n",
    "url = f'http://openapi.seoul.go.kr:8088/{key}/{req_type}/CardSubwayStatsNew/1/{end_index}/{date}'\n",
    "url"
   ]
  },
  {
   "cell_type": "code",
   "execution_count": 15,
   "metadata": {},
   "outputs": [
    {
     "data": {
      "text/plain": [
       "<Response [200]>"
      ]
     },
     "execution_count": 15,
     "metadata": {},
     "output_type": "execute_result"
    }
   ],
   "source": [
    "response = requests.get(url)\n",
    "response"
   ]
  },
  {
   "cell_type": "code",
   "execution_count": 18,
   "metadata": {},
   "outputs": [],
   "source": [
    "#response.text\n",
    "dom = BeautifulSoup(response.text, \"lxml-xml\")  # XML 파싱!\n",
    "#dom"
   ]
  },
  {
   "cell_type": "code",
   "execution_count": 19,
   "metadata": {},
   "outputs": [
    {
     "data": {
      "text/plain": [
       "10"
      ]
     },
     "execution_count": 19,
     "metadata": {},
     "output_type": "execute_result"
    }
   ],
   "source": [
    "rows = dom.select('row')\n",
    "len(rows)"
   ]
  },
  {
   "cell_type": "code",
   "execution_count": 20,
   "metadata": {},
   "outputs": [
    {
     "data": {
      "text/plain": [
       "[['1호선', '서울역', '40995', '38769'],\n",
       " ['1호선', '시청', '21206', '21255'],\n",
       " ['1호선', '종각', '39605', '37610'],\n",
       " ['1호선', '종로3가', '25128', '23953'],\n",
       " ['1호선', '종로5가', '22810', '22416'],\n",
       " ['1호선', '동대문', '11060', '11239'],\n",
       " ['1호선', '신설동', '14749', '14940'],\n",
       " ['1호선', '제기동', '15750', '16317'],\n",
       " ['1호선', '청량리(서울시립대입구)', '19865', '19909'],\n",
       " ['1호선', '동묘앞', '7829', '8252']]"
      ]
     },
     "execution_count": 20,
     "metadata": {},
     "output_type": "execute_result"
    }
   ],
   "source": [
    "[\n",
    "    [\n",
    "        row.select_one('LINE_NUM').text.strip(),\n",
    "        row.select_one('SUB_STA_NM').text.strip(),\n",
    "        row.select_one('RIDE_PASGR_NUM').text.strip(),\n",
    "        row.select_one('ALIGHT_PASGR_NUM').text.strip()\n",
    "    ]\n",
    "    for row in rows\n",
    "]"
   ]
  },
  {
   "cell_type": "code",
   "execution_count": null,
   "metadata": {},
   "outputs": [],
   "source": []
  },
  {
   "cell_type": "code",
   "execution_count": null,
   "metadata": {},
   "outputs": [],
   "source": []
  },
  {
   "cell_type": "code",
   "execution_count": null,
   "metadata": {},
   "outputs": [],
   "source": []
  },
  {
   "cell_type": "code",
   "execution_count": null,
   "metadata": {},
   "outputs": [],
   "source": []
  },
  {
   "cell_type": "code",
   "execution_count": null,
   "metadata": {},
   "outputs": [],
   "source": []
  }
 ],
 "metadata": {
  "kernelspec": {
   "display_name": "Python 3",
   "language": "python",
   "name": "python3"
  },
  "language_info": {
   "codemirror_mode": {
    "name": "ipython",
    "version": 3
   },
   "file_extension": ".py",
   "mimetype": "text/x-python",
   "name": "python",
   "nbconvert_exporter": "python",
   "pygments_lexer": "ipython3",
   "version": "3.7.4"
  }
 },
 "nbformat": 4,
 "nbformat_minor": 2
}
