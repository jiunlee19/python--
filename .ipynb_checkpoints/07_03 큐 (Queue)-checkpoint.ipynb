{
 "cells": [
  {
   "cell_type": "markdown",
   "metadata": {},
   "source": [
    "# 큐 (Queue)\n",
    "1. 데이터가 들어온 순서대로 추출 됨\n",
    "2. `FIFO`(First-In First-Out, 선입선출 구조) 먼저 들어온 데어터가 먼저 추출됨\n",
    "<img src=\"https://miro.medium.com/proxy/0*TRbfsq86lqDoqW6b.png\" style=\"float:left; width:450px; height:auto\">"
   ]
  },
  {
   "cell_type": "markdown",
   "metadata": {},
   "source": [
    "## 일상생활에서의 큐\n",
    "<img src=\"https://amudabadmus.files.wordpress.com/2017/04/queue-2012-12-11.jpg?w=800\" style=\"float:left; width:400px; height:auto\">"
   ]
  },
  {
   "cell_type": "markdown",
   "metadata": {},
   "source": [
    "## queue 의 ADT (추상 데이터 타입) \n",
    "큐의 동작들\n",
    "- `enqueue` : 큐 뒤쪽에 데이터 삽입\n",
    "- `dequeue` : 큐 앞쪽의 데이터 리턴하고, 제거\n",
    "- `peek/front` : 큐 앞쪽의 항목을 조회\n",
    "- `empty` : 큐가 비어있는지 확인\n",
    "- `size` : 큐 크기 (데이터 개수) 확인"
   ]
  },
  {
   "cell_type": "markdown",
   "metadata": {},
   "source": [
    "# Node 를 사용한 큐 구현"
   ]
  },
  {
   "cell_type": "code",
   "execution_count": 1,
   "metadata": {},
   "outputs": [],
   "source": [
    "class Node:\n",
    "    def __init__(self, value=None, pointer=None):\n",
    "        self.value = value   # '값'\n",
    "        self.pointer = pointer # '다음 노드에 대한 포인터'"
   ]
  },
  {
   "cell_type": "code",
   "execution_count": 9,
   "metadata": {},
   "outputs": [],
   "source": [
    "class LinkedQueue:\n",
    "    def __init__(self):\n",
    "        self.front = None   # front : 데이터 추출\n",
    "        self.back = None    # back : 데이터 삽입\n",
    "        self.size = 0       # 데이터 개수\n",
    "        \n",
    "    def isEmpty(self):\n",
    "        return not bool(self.front)\n",
    "    \n",
    "    def enqueue(self, value):\n",
    "        newNode = Node(value)\n",
    "        if not self.front:  # 첫 데이터 인 경우\n",
    "            self.front = newNode\n",
    "            self.back = newNode\n",
    "            self.size = 1\n",
    "        else:\n",
    "            # back 에 새로운 데이터 추가해 나감\n",
    "            if self.back:\n",
    "                self.back.pointer = newNode  # back 뒤에 새 노드 추가\n",
    "            \n",
    "            self.back = newNode  # back 이동\n",
    "            self.size += 1   \n",
    "            \n",
    "        \n",
    "    def dequeue(self):\n",
    "        if self.front:   # front 노드가 dequeue 된다\n",
    "            value = self.front.value\n",
    "            \n",
    "            self.front = self.front.pointer   # front 이동\n",
    "            self.size -= 1\n",
    "            \n",
    "            return value\n",
    "        else:\n",
    "            print(\"큐가 비었습니다\")\n",
    "            \n",
    "    def peek(self):\n",
    "        if self.front:\n",
    "            return self.front.value\n",
    "    \n",
    "    def _print(self):\n",
    "        node = self.front\n",
    "        while node:\n",
    "            print(node.value, end=\" \")\n",
    "            node = node.pointer\n",
    "            \n",
    "        print()\n",
    "    \n",
    "    \n",
    "    "
   ]
  },
  {
   "cell_type": "code",
   "execution_count": 12,
   "metadata": {},
   "outputs": [
    {
     "name": "stdout",
     "output_type": "stream",
     "text": [
      "큐가 비어있나? True\n",
      "0 1 2 3 4 5 6 7 8 9 \n",
      "큐의 크기 10\n",
      "peek() 0\n",
      "dequeue() 0\n",
      "dequeue() 1\n",
      "dequeue() 2\n",
      "3 4 5 6 7 8 9 \n"
     ]
    }
   ],
   "source": [
    "q = LinkedQueue()\n",
    "print('큐가 비어있나?', q.isEmpty())\n",
    "for i in range(10):\n",
    "    q.enqueue(i)\n",
    "\n",
    "q._print()\n",
    "print('큐의 크기', q.size)\n",
    "print('peek()', q.peek())\n",
    "print('dequeue()', q.dequeue())\n",
    "print('dequeue()', q.dequeue())\n",
    "print('dequeue()', q.dequeue())\n",
    "q._print()"
   ]
  },
  {
   "cell_type": "markdown",
   "metadata": {},
   "source": [
    "# list 를 사용한 Queue 구현"
   ]
  },
  {
   "cell_type": "code",
   "execution_count": null,
   "metadata": {},
   "outputs": [],
   "source": [
    "class Queue:\n",
    "    def __init__(self):\n",
    "        self.items = []   # list 로 구현하는 큐!\n",
    "        \n",
    "    def isEmpty(self):\n",
    "        return not bool(self.items)\n",
    "        \n",
    "    def enqueue(self, value):\n",
    "        self.items.insert(0, value)\n",
    "    \n",
    "    def dequeue(self):\n",
    "        value = self.items.pop()\n",
    "        if value is not None:\n",
    "            return value\n",
    "        else:\n",
    "            print(\"큐가 비었습니다\")\n",
    "        \n",
    "        \n",
    "    def peek(self):\n",
    "        # TODO\n",
    "        \n",
    "    def _print(self):\n",
    "        # TODO"
   ]
  },
  {
   "cell_type": "code",
   "execution_count": null,
   "metadata": {},
   "outputs": [],
   "source": []
  },
  {
   "cell_type": "code",
   "execution_count": null,
   "metadata": {},
   "outputs": [],
   "source": []
  },
  {
   "cell_type": "code",
   "execution_count": null,
   "metadata": {},
   "outputs": [],
   "source": []
  },
  {
   "cell_type": "code",
   "execution_count": null,
   "metadata": {},
   "outputs": [],
   "source": []
  }
 ],
 "metadata": {
  "kernelspec": {
   "display_name": "Python 3",
   "language": "python",
   "name": "python3"
  },
  "language_info": {
   "codemirror_mode": {
    "name": "ipython",
    "version": 3
   },
   "file_extension": ".py",
   "mimetype": "text/x-python",
   "name": "python",
   "nbconvert_exporter": "python",
   "pygments_lexer": "ipython3",
   "version": "3.7.4"
  }
 },
 "nbformat": 4,
 "nbformat_minor": 2
}
