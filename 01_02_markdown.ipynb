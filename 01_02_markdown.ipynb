{
 "cells": [
  {
   "cell_type": "markdown",
   "metadata": {},
   "source": [
    "# MarkDown 문서 익히기\n",
    "- 확장자 .md 로 된 문서들\n",
    "- HTML 대체기능"
   ]
  },
  {
   "cell_type": "code",
   "execution_count": 3,
   "metadata": {},
   "outputs": [],
   "source": [
    "\"\"\"\n",
    "1. 장점\n",
    "    - 간편 + 쉽다\n",
    "    - 다양한 플랫폼에서 지원\n",
    "    \n",
    "2. 단점\n",
    "    - 표준이 없다 (표현매체마다 다르게 보임)\n",
    "    - 모든 HTML 을 대체하진 못한다\n",
    "\"\"\"\n",
    "None"
   ]
  },
  {
   "cell_type": "markdown",
   "metadata": {},
   "source": [
    "1. 장점\n",
    "    - 간편하고 쉽다\n",
    "    - 다양한 플랫폼에서 지원\n",
    "1. 단점\n",
    "    - 표준이 없다\n",
    "    - 모든 HTML은 안되요...\n",
    "1. 이런점\n",
    "1. 까만점"
   ]
  },
  {
   "cell_type": "code",
   "execution_count": 4,
   "metadata": {},
   "outputs": [],
   "source": [
    "\"\"\"\n",
    "---\n",
    "\"\"\"\n",
    "None"
   ]
  },
  {
   "cell_type": "markdown",
   "metadata": {},
   "source": [
    "---"
   ]
  },
  {
   "cell_type": "code",
   "execution_count": 5,
   "metadata": {},
   "outputs": [],
   "source": [
    "\"\"\"\n",
    "# 제목1\n",
    "## 제목2\n",
    "### 제목3\n",
    "#### 제목4\n",
    "##### 제목5\n",
    "\n",
    "\"\"\"\n",
    "None"
   ]
  },
  {
   "cell_type": "markdown",
   "metadata": {},
   "source": [
    "# 제목1\n",
    "## 제목2\n",
    "### 제목3\n",
    "#### 제목4\n",
    "##### 제목5"
   ]
  },
  {
   "cell_type": "code",
   "execution_count": 7,
   "metadata": {},
   "outputs": [],
   "source": [
    "\"\"\"\n",
    "# 줄바꿈 (line break)\n",
    "\n",
    "동해물과 백두산이\n",
    "마르고 닳도록  <!-- 띄어쓰기 2번 -->\n",
    "하느님이 보우하사 <br>\n",
    "우리나라 만세\n",
    "\n",
    "\"\"\"\n",
    "None"
   ]
  },
  {
   "cell_type": "markdown",
   "metadata": {},
   "source": [
    "동해물과 백두산이\n",
    "마르고 닳도록\n",
    "하느님이 보우하사\n",
    "우리나라 만세"
   ]
  },
  {
   "cell_type": "markdown",
   "metadata": {},
   "source": [
    "동해물과 백두산이\n",
    "마르고 닳도록\n",
    "\n",
    "하느님이 보우하사<br>\n",
    "우리나라 만세"
   ]
  },
  {
   "cell_type": "code",
   "execution_count": 9,
   "metadata": {},
   "outputs": [],
   "source": [
    "\"\"\"\n",
    "이탤릭은 *별표* 혹은 _언더바_ 사용하세요\n",
    "\n",
    "두껍게는 **별표** 혹은 __언더바__ 2개 사용하세요\n",
    "\n",
    "취소선 은 ~~물결~~ 사용하세요\n",
    "\n",
    "밑줄 은 <u>`<u></u>`</u> 사용하세요\n",
    "\n",
    "강조는 `back tick` 사용\n",
    "\n",
    "윗첨자 0(*n*<sup>2</sup>)   \n",
    "\"\"\"\n",
    "None"
   ]
  },
  {
   "cell_type": "markdown",
   "metadata": {},
   "source": [
    "이탤릭은 *별표* 혹은 _언더바_ 사용하세요\n",
    "\n",
    "두껍게는 **별표** 혹은 __언더바__ 2개 사용하세요\n",
    "\n",
    "취소선 은 ~~물결~~ 사용하세요\n",
    "\n",
    "밑줄 은 <u>`<u></u>`</u> 사용하세요\n",
    "\n",
    "강조는 `back tick` 사용\n",
    "\n",
    "윗첨자 0(*n*<sup>2</sup>)   "
   ]
  },
  {
   "cell_type": "code",
   "execution_count": 11,
   "metadata": {},
   "outputs": [],
   "source": [
    "\"\"\"\n",
    "# 목록\n",
    "1. 순서가 필요한 목록\n",
    "    1. 순서필요목록 (서브)\n",
    "    1. 순서필요목록 (서브)\n",
    "    1. 순서필요목록 (서브)\n",
    "1. 순서가 필요한 목록\n",
    "    - 순서 없는 목록\n",
    "    - 순서 없는 목록\n",
    "1. 순서가 필요한 목록\n",
    "\n",
    "\n",
    "1. 순서가 필요한 목록\n",
    "1. 순서가 필요한 목록\n",
    "1. 순서가 필요한 목록\n",
    "\n",
    "\"\"\"\n",
    "None"
   ]
  },
  {
   "cell_type": "markdown",
   "metadata": {},
   "source": [
    "# 목록\n",
    "1. 순서가 필요한 목록\n",
    "    1. 순서필요목록 (서브)\n",
    "    1. 순서필요목록 (서브)\n",
    "    1. 순서필요목록 (서브)\n",
    "1. 순서가 필요한 목록\n",
    "    - 순서 없는 목록\n",
    "    - 순서 없는 목록\n",
    "1. 순서가 필요한 목록\n",
    "\n",
    "\n",
    "1. 순서가 필요한 목록\n",
    "1. 순서가 필요한 목록\n",
    "1. 순서가 필요한 목록"
   ]
  },
  {
   "cell_type": "code",
   "execution_count": 14,
   "metadata": {},
   "outputs": [],
   "source": [
    "\"\"\"\n",
    "[네이버](https://www.naver.com)\n",
    "\n",
    "문서 안에서는 `< >` 으로 자동 링크 가능\n",
    "\n",
    "네이버 홈페이지 : <https://www.naver.com>\n",
    "\n",
    "\"\"\"\n",
    "None"
   ]
  },
  {
   "cell_type": "markdown",
   "metadata": {},
   "source": [
    "[네이버](https://www.naver.com)\n",
    "\n",
    "문서 안에서는 `< >` 으로 자동 링크 가능\n",
    "\n",
    "네이버 홈페이지 : <https://www.naver.com>"
   ]
  },
  {
   "cell_type": "code",
   "execution_count": 18,
   "metadata": {},
   "outputs": [],
   "source": [
    "\"\"\"\n",
    "# 이미지 링크\n",
    "![냥냥이](https://post-phinf.pstatic.net/MjAxOTA2MjdfNjMg/MDAxNTYxNjE5NjM1NjE1.33X9PE1MdXjVHUPsqYd5IMBK_l8QeR8YWXj9S9Gqm0cg.nrqI6YEysYSXfXEuv7GChzwCH1ZNE1POVSGbFY1M-9Qg.JPEG/%EA%B0%9C%EB%83%A5%EC%9D%B4.jpg?type=w1200)\"\"\"\n",
    "None"
   ]
  },
  {
   "cell_type": "markdown",
   "metadata": {},
   "source": [
    "# 이미지 링크\n",
    "![냥냥이](https://post-phinf.pstatic.net/MjAxOTA2MjdfNjMg/MDAxNTYxNjE5NjM1NjE1.33X9PE1MdXjVHUPsqYd5IMBK_l8QeR8YWXj9S9Gqm0cg.nrqI6YEysYSXfXEuv7GChzwCH1ZNE1POVSGbFY1M-9Qg.JPEG/%EA%B0%9C%EB%83%A5%EC%9D%B4.jpg?type=w1200)"
   ]
  },
  {
   "cell_type": "code",
   "execution_count": null,
   "metadata": {},
   "outputs": [],
   "source": []
  },
  {
   "cell_type": "code",
   "execution_count": null,
   "metadata": {},
   "outputs": [],
   "source": []
  },
  {
   "cell_type": "code",
   "execution_count": null,
   "metadata": {},
   "outputs": [],
   "source": []
  },
  {
   "cell_type": "code",
   "execution_count": null,
   "metadata": {},
   "outputs": [],
   "source": []
  },
  {
   "cell_type": "code",
   "execution_count": null,
   "metadata": {},
   "outputs": [],
   "source": []
  }
 ],
 "metadata": {
  "kernelspec": {
   "display_name": "Python 3",
   "language": "python",
   "name": "python3"
  },
  "language_info": {
   "codemirror_mode": {
    "name": "ipython",
    "version": 3
   },
   "file_extension": ".py",
   "mimetype": "text/x-python",
   "name": "python",
   "nbconvert_exporter": "python",
   "pygments_lexer": "ipython3",
   "version": "3.7.4"
  }
 },
 "nbformat": 4,
 "nbformat_minor": 2
}
