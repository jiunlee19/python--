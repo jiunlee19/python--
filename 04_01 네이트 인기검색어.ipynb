{
 "cells": [
  {
   "cell_type": "markdown",
   "metadata": {},
   "source": [
    "# 연습 : 네이트 인기 검색어"
   ]
  },
  {
   "cell_type": "code",
   "execution_count": 1,
   "metadata": {},
   "outputs": [],
   "source": [
    "\"\"\"\n",
    "[결과예]\n",
    "[\n",
    "    {'검색어': '민주당 압승', \n",
    "    'URL': 'https://search.daum.net/nate?w=tot&q=%EB%AF%BC%EC%A3%BC%EB%8B%B9+%EC%95%95%EC%8A%B9'\n",
    "    }, \n",
    "    {'검색어': '기부 동참', \n",
    "    'URL': 'https://search.daum.net/nate?w=tot&DA=NBZ&q=%ED%9B%84%EC%9B%90'\n",
    "    }, \n",
    "    {'검색어': '스마일라식', \n",
    "    'URL': 'https://search.daum.net/nate?w=tot&DA=NBZ&q=%EC%8A%A4%EB%A7%88%EC%9D%BC%EB%9D%BC%EC%8B%9D'\n",
    "    }, \n",
    "    {'검색어': '솔비 추모 그림', \n",
    "    'URL': 'https://search.daum.net/nate?w=tot&q=%EC%86%94%EB%B9%84+%EC%B6%94%EB%AA%A8+%EA%B7%B8%EB%A6%BC'\n",
    "    }, \n",
    "    {'검색어': '세월호 6주기', \n",
    "    'URL': 'https://search.daum.net/nate?w=tot&q=%EC%84%B8%EC%9B%94%ED%98%B8+6%EC%A3%BC%EA%B8%B0'\n",
    "    }\n",
    "]\n",
    "\"\"\"\n",
    "None"
   ]
  },
  {
   "cell_type": "code",
   "execution_count": 28,
   "metadata": {},
   "outputs": [
    {
     "name": "stdout",
     "output_type": "stream",
     "text": [
      "네이트 인기 검색어\n",
      "5\n",
      "[{'URL': 'https://search.daum.net/nate?w=tot&q=%EB%B0%B1%EC%A2%85%EC%9B%90+%EC%B6%A9%EA%B2%A9',\n",
      "  '검색어': '백종원 충격'},\n",
      " {'URL': 'https://search.daum.net/nate?w=tot&DA=NAD&q=%EB%9D%BC%EC%8B%9D',\n",
      "  '검색어': '라식'},\n",
      " {'URL': 'https://search.daum.net/nate?w=tot&DA=NAD&q=%EC%BD%94%EC%9D%B8%EB%B9%A8%EB%9E%98%EB%B0%A9%EC%B0%BD%EC%97%85',\n",
      "  '검색어': '코인빨래방'},\n",
      " {'URL': 'https://search.daum.net/nate?w=tot&q=%EB%B8%94%EB%A3%A8+%EC%9D%B4%ED%9A%A8%EB%A6%AC',\n",
      "  '검색어': '이효리 블루 응원'},\n",
      " {'URL': 'https://search.daum.net/nate?w=tot&q=%ED%99%8D%EC%84%9D%EC%B2%9C+%EC%9D%80%ED%96%89+%EC%9E%94%EA%B3%A0',\n",
      "  '검색어': '홍석천 은행 잔고'}]\n"
     ]
    }
   ],
   "source": [
    "import requests\n",
    "import pprint\n",
    "from bs4 import BeautifulSoup\n",
    "\n",
    "print('네이트 인기 검색어')\n",
    "url = 'https://www.nate.com'\n",
    "\n",
    "response = requests.get(url)\n",
    "if response.status_code == 200:\n",
    "    dom = BeautifulSoup(response.text, 'html.parser')\n",
    "    \n",
    "    elements = dom.select('.search_keyword a')\n",
    "    print(len(elements)) # 5개 확인\n",
    "    \n",
    "    result = [\n",
    "        {\n",
    "            '검색어' : element.text.strip(),\n",
    "            'URL' : element.attrs['href'].strip()\n",
    "        }\n",
    "        for element in elements\n",
    "    ]\n",
    "    \n",
    "    pp = pprint.PrettyPrinter(depth=6)\n",
    "    pp.pprint(result)\n"
   ]
  },
  {
   "cell_type": "code",
   "execution_count": null,
   "metadata": {},
   "outputs": [],
   "source": []
  },
  {
   "cell_type": "code",
   "execution_count": null,
   "metadata": {},
   "outputs": [],
   "source": []
  },
  {
   "cell_type": "code",
   "execution_count": null,
   "metadata": {},
   "outputs": [],
   "source": []
  },
  {
   "cell_type": "code",
   "execution_count": null,
   "metadata": {},
   "outputs": [],
   "source": []
  },
  {
   "cell_type": "code",
   "execution_count": null,
   "metadata": {},
   "outputs": [],
   "source": []
  },
  {
   "cell_type": "code",
   "execution_count": null,
   "metadata": {},
   "outputs": [],
   "source": []
  },
  {
   "cell_type": "code",
   "execution_count": null,
   "metadata": {},
   "outputs": [],
   "source": []
  },
  {
   "cell_type": "code",
   "execution_count": null,
   "metadata": {},
   "outputs": [],
   "source": []
  },
  {
   "cell_type": "code",
   "execution_count": null,
   "metadata": {},
   "outputs": [],
   "source": []
  },
  {
   "cell_type": "code",
   "execution_count": null,
   "metadata": {},
   "outputs": [],
   "source": []
  },
  {
   "cell_type": "code",
   "execution_count": null,
   "metadata": {},
   "outputs": [],
   "source": []
  },
  {
   "cell_type": "code",
   "execution_count": null,
   "metadata": {},
   "outputs": [],
   "source": []
  },
  {
   "cell_type": "code",
   "execution_count": null,
   "metadata": {},
   "outputs": [],
   "source": []
  }
 ],
 "metadata": {
  "kernelspec": {
   "display_name": "Python 3",
   "language": "python",
   "name": "python3"
  },
  "language_info": {
   "codemirror_mode": {
    "name": "ipython",
    "version": 3
   },
   "file_extension": ".py",
   "mimetype": "text/x-python",
   "name": "python",
   "nbconvert_exporter": "python",
   "pygments_lexer": "ipython3",
   "version": "3.7.4"
  }
 },
 "nbformat": 4,
 "nbformat_minor": 2
}
