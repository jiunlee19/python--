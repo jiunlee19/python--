{
 "cells": [
  {
   "cell_type": "markdown",
   "metadata": {},
   "source": [
    "# Daum + 검색어 + 블로그"
   ]
  },
  {
   "cell_type": "markdown",
   "metadata": {},
   "source": [
    "### url 분석"
   ]
  },
  {
   "cell_type": "code",
   "execution_count": 1,
   "metadata": {},
   "outputs": [],
   "source": [
    "\"\"\"\n",
    "https://search.daum.net/search\n",
    "?\n",
    "w=blog&\n",
    "nil_search=btn&\n",
    "DA=NTB&\n",
    "enc=utf8&\n",
    "q=%ED%8C%8C%EC%9D%B4%EC%8D%AC\n",
    "\"\"\"\n",
    "None"
   ]
  },
  {
   "cell_type": "code",
   "execution_count": 2,
   "metadata": {},
   "outputs": [],
   "source": [
    "import requests\n",
    "from bs4 import BeautifulSoup\n",
    "import urllib.parse as urlparser"
   ]
  },
  {
   "cell_type": "code",
   "execution_count": 3,
   "metadata": {},
   "outputs": [
    {
     "data": {
      "text/plain": [
       "'https://search.daum.net/search?w=blog&nil_search=btn&DA=NTB&enc=utf8&q=%EC%BD%94%EB%A1%9C%EB%82%98'"
      ]
     },
     "execution_count": 3,
     "metadata": {},
     "output_type": "execute_result"
    }
   ],
   "source": [
    "keyword = '코로나'\n",
    "url = 'https://search.daum.net/search?w=blog&nil_search=btn&DA=NTB&enc=utf8&q=' + urlparser.quote(keyword)\n",
    "url"
   ]
  },
  {
   "cell_type": "code",
   "execution_count": 4,
   "metadata": {},
   "outputs": [],
   "source": [
    "#Daum 에서 특정한 '키워드'로 검색하기\n",
    "#거기서 '블로그' 항목으로 들어가서\n",
    "#블로그 제목, 블로그 이름을 뽑아보세요.\n",
    "\n",
    "#실제로 포스팅 이름과 블로그 이름이 아래와 같이 나와야 함..\n",
    "\n",
    "# dict 들의 list\n",
    "# 각 dict 에는 포스팅 제목 과 블로그 제목이 담겨야 함\n",
    "#[\n",
    "#   {\n",
    "#        post_title: 포스팅 제목,  \n",
    "#        blog_title: 블로그 제목\n",
    "#   },\n",
    "#   {},\n",
    "#   {},\n",
    "#]"
   ]
  },
  {
   "cell_type": "code",
   "execution_count": 5,
   "metadata": {},
   "outputs": [],
   "source": [
    "\"\"\"\n",
    "[{'blog_title': '멍선생과 잡담', 'post_title': '[Python] 왜 파이썬을 사용할까?'},\n",
    " {'blog_title': 'AiDA Lab.', 'post_title': '파이썬 환경 구축하기'},\n",
    " {'blog_title': '평범한 직장인의 세상...', 'post_title': '파이썬 기초 강좌 아나콘다 설치방법'},\n",
    " {'blog_title': \"Tae's Note : 하나씩 ...\", 'post_title': '파이썬 함수 다루기 (1)'},\n",
    " {'blog_title': 'Tour&Coffee', 'post_title': '[파이썬] Data Analysis'},\n",
    " {'blog_title': 'AiDA Lab.', 'post_title': '파이썬 문법 기초'},\n",
    " {'blog_title': 'MakeRejoiceGames',\n",
    "  'post_title': '파이썬 1장(컴파일러, 인터프리터, print, 출력, 함수, 사칙연산)'},\n",
    " {'blog_title': '파트너스활동을 통해 ...',\n",
    "  'post_title': 'python , 파이썬 시작하기 / 다운로드 / 설치'},\n",
    " {'blog_title': '초급기술자', 'post_title': '파이썬 개발환경 구축 # IDE 설치'},\n",
    " {'blog_title': '나눔코딩', 'post_title': '02. 파이썬 기본'}]\n",
    "\"\"\"\n",
    "None"
   ]
  },
  {
   "cell_type": "code",
   "execution_count": 7,
   "metadata": {},
   "outputs": [
    {
     "data": {
      "text/plain": [
       "'https://search.daum.net/search?w=blog&nil_search=btn&DA=NTB&enc=utf8&q=%EC%BD%94%EB%A1%9C%EB%82%98'"
      ]
     },
     "execution_count": 7,
     "metadata": {},
     "output_type": "execute_result"
    }
   ],
   "source": [
    "url"
   ]
  },
  {
   "cell_type": "code",
   "execution_count": 14,
   "metadata": {},
   "outputs": [
    {
     "data": {
      "text/plain": [
       "[{'post_title': '[Python] 왜 파이썬을 사용할까?',\n",
       "  'blog_title': '멍선생과 잡담',\n",
       "  'url': 'http://boosija.tistory.com/44'},\n",
       " {'post_title': '파이썬 환경 구축하기',\n",
       "  'blog_title': 'AiDA Lab.',\n",
       "  'url': 'http://aidalab.tistory.com/55'},\n",
       " {'post_title': '파이썬 기초 강좌 아나콘다 설치방법',\n",
       "  'blog_title': '평범한 직장인의 세상...',\n",
       "  'url': 'http://www.goodbizinfo.com/57'},\n",
       " {'post_title': '파이썬 함수 다루기 (1)',\n",
       "  'blog_title': \"Tae's Note : 하나씩 ...\",\n",
       "  'url': 'http://taes-note.tistory.com/107'},\n",
       " {'post_title': '[파이썬] Data Analysis',\n",
       "  'blog_title': 'Tour&Coffee',\n",
       "  'url': 'http://tourcoffee.tistory.com/100'},\n",
       " {'post_title': '파이썬 문법 기초',\n",
       "  'blog_title': 'AiDA Lab.',\n",
       "  'url': 'http://aidalab.tistory.com/56'},\n",
       " {'post_title': '파이썬 1장(컴파일러, 인터프리터, print, 출력, 함수, 사칙연산)',\n",
       "  'blog_title': 'MakeRejoiceGames',\n",
       "  'url': 'http://makerejoicegames.tistory.com/50'},\n",
       " {'post_title': 'python , 파이썬 시작하기 / 다운로드 / 설치',\n",
       "  'blog_title': '파트너스활동을 통해 ...',\n",
       "  'url': 'http://cruiseengineering.tistory.com/105'},\n",
       " {'post_title': '파이썬 개발환경 구축 # IDE 설치',\n",
       "  'blog_title': '초급기술자',\n",
       "  'url': 'http://bsm02love.tistory.com/3'},\n",
       " {'post_title': '02. 파이썬 기본',\n",
       "  'blog_title': '나눔코딩',\n",
       "  'url': 'http://theheydaze.tistory.com/125'}]"
      ]
     },
     "execution_count": 14,
     "metadata": {},
     "output_type": "execute_result"
    }
   ],
   "source": [
    "def crawl_daum_blog(search):\n",
    "    url = 'https://search.daum.net/search?w=blog&nil_search=btn&DA=NTB&enc=utf8&q=' + urlparser.quote(search)\n",
    "    response = requests.get(url)\n",
    "    data = BeautifulSoup(response.text, 'html.parser')\n",
    "    post_elements = data.select(\"#blogColl .list_info li .wrap_cont\")\n",
    "    result = [\n",
    "        {\n",
    "            'post_title' : post_element.select_one('a').text.strip(),\n",
    "            'blog_title' : post_element.select_one('.info .f_nb').text.strip(),\n",
    "            'url' : post_element.select_one(\"a\").attrs.get(\"href\")\n",
    "        }\n",
    "        \n",
    "        for post_element in post_elements\n",
    "    ]\n",
    "    return result\n",
    "    \n",
    "\n",
    "crawl_daum_blog('파이썬')"
   ]
  },
  {
   "cell_type": "code",
   "execution_count": null,
   "metadata": {},
   "outputs": [],
   "source": []
  },
  {
   "cell_type": "code",
   "execution_count": null,
   "metadata": {},
   "outputs": [],
   "source": []
  },
  {
   "cell_type": "code",
   "execution_count": null,
   "metadata": {},
   "outputs": [],
   "source": []
  },
  {
   "cell_type": "code",
   "execution_count": null,
   "metadata": {},
   "outputs": [],
   "source": []
  },
  {
   "cell_type": "code",
   "execution_count": null,
   "metadata": {},
   "outputs": [],
   "source": []
  },
  {
   "cell_type": "code",
   "execution_count": null,
   "metadata": {},
   "outputs": [],
   "source": []
  },
  {
   "cell_type": "code",
   "execution_count": null,
   "metadata": {},
   "outputs": [],
   "source": []
  }
 ],
 "metadata": {
  "kernelspec": {
   "display_name": "Python 3",
   "language": "python",
   "name": "python3"
  },
  "language_info": {
   "codemirror_mode": {
    "name": "ipython",
    "version": 3
   },
   "file_extension": ".py",
   "mimetype": "text/x-python",
   "name": "python",
   "nbconvert_exporter": "python",
   "pygments_lexer": "ipython3",
   "version": "3.7.4"
  }
 },
 "nbformat": 4,
 "nbformat_minor": 2
}
