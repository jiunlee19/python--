{
 "cells": [
  {
   "cell_type": "markdown",
   "metadata": {},
   "source": [
    "# 리스트 (List)\n",
    "1. 데이터(들)이 순서대로 저장된 형태의 자료구조\n",
    "1. 저장된 순서’가 유지된다.\n",
    "1. 데이터의 ‘중복 저장’ 허용"
   ]
  },
  {
   "cell_type": "markdown",
   "metadata": {},
   "source": [
    "# 연결 리스트 (Linked List)\n",
    "1. '값' + '다음 Node 에 대한 포인터(참조)'  로 이루어진 Node 로 이루어진 선형 리스트\n",
    "2. 마지막 노드는 Null (파이썬에서는 None)\n",
    "3. head : 맨 앞의 노드 ,   tail : 맨 뒤의 노드\n",
    "4. 새 항목을 head 앞에 추가가능,   새 항목을 tail 뒤에 추가 가능\n"
   ]
  },
  {
   "cell_type": "markdown",
   "metadata": {},
   "source": [
    "![노드](https://img1.daumcdn.net/thumb/R800x0/?scode=mtistory2&fname=https%3A%2F%2Ft1.daumcdn.net%2Fcfile%2Ftistory%2F23490844589151461C)"
   ]
  },
  {
   "cell_type": "markdown",
   "metadata": {},
   "source": [
    "![연결리스트](https://he-s3.s3.amazonaws.com/media/uploads/1b76d10.png)"
   ]
  },
  {
   "cell_type": "markdown",
   "metadata": {},
   "source": [
    "![배열 vs 연결리스트](https://qph.fs.quoracdn.net/main-qimg-41cdfa9a815220598f2c03f1bccaeff8)"
   ]
  },
  {
   "cell_type": "markdown",
   "metadata": {},
   "source": [
    "1. ArrayList\n",
    "    1. 장점\n",
    "        - n번째 데이터 참조 유리\n",
    "    1. 단점\n",
    "        - 데이터 삽입/삭제/추가 불리\n",
    "        \n",
    "1. LinkedList\n",
    "    1. 단점\n",
    "        - n번째 데이터 참조 불리\n",
    "    1. 장점\n",
    "        - 데이터 삽입/삭제/추가 유리"
   ]
  },
  {
   "cell_type": "markdown",
   "metadata": {},
   "source": [
    "# Node"
   ]
  },
  {
   "cell_type": "code",
   "execution_count": 1,
   "metadata": {},
   "outputs": [],
   "source": [
    "class Node:\n",
    "    def __init__(self, value=None, pointer=None):\n",
    "        self.value = value   # '값'\n",
    "        self.pointer = pointer # '다음 노드에 대한 포인터'"
   ]
  },
  {
   "cell_type": "code",
   "execution_count": 2,
   "metadata": {},
   "outputs": [
    {
     "data": {
      "text/plain": [
       "<__main__.Node at 0x1de2b06a308>"
      ]
     },
     "execution_count": 2,
     "metadata": {},
     "output_type": "execute_result"
    }
   ],
   "source": [
    "n1 = Node(\"N1\")\n",
    "n1"
   ]
  },
  {
   "cell_type": "code",
   "execution_count": 3,
   "metadata": {},
   "outputs": [
    {
     "data": {
      "text/plain": [
       "2053716222728"
      ]
     },
     "execution_count": 3,
     "metadata": {},
     "output_type": "execute_result"
    }
   ],
   "source": [
    "id(n1)"
   ]
  },
  {
   "cell_type": "code",
   "execution_count": 4,
   "metadata": {},
   "outputs": [
    {
     "data": {
      "text/plain": [
       "<__main__.Node at 0x1de2b059f88>"
      ]
     },
     "execution_count": 4,
     "metadata": {},
     "output_type": "execute_result"
    }
   ],
   "source": [
    "n2 = Node(\"N2\")\n",
    "n2"
   ]
  },
  {
   "cell_type": "code",
   "execution_count": 5,
   "metadata": {},
   "outputs": [],
   "source": [
    "n1.pointer = n2"
   ]
  },
  {
   "cell_type": "code",
   "execution_count": 6,
   "metadata": {},
   "outputs": [
    {
     "data": {
      "text/plain": [
       "'N1'"
      ]
     },
     "execution_count": 6,
     "metadata": {},
     "output_type": "execute_result"
    }
   ],
   "source": [
    "n1.value"
   ]
  },
  {
   "cell_type": "code",
   "execution_count": 7,
   "metadata": {},
   "outputs": [
    {
     "data": {
      "text/plain": [
       "<__main__.Node at 0x1de2b059f88>"
      ]
     },
     "execution_count": 7,
     "metadata": {},
     "output_type": "execute_result"
    }
   ],
   "source": [
    "n1.pointer"
   ]
  },
  {
   "cell_type": "code",
   "execution_count": 8,
   "metadata": {},
   "outputs": [
    {
     "data": {
      "text/plain": [
       "'N2'"
      ]
     },
     "execution_count": 8,
     "metadata": {},
     "output_type": "execute_result"
    }
   ],
   "source": [
    "n1.pointer.value"
   ]
  },
  {
   "cell_type": "code",
   "execution_count": 9,
   "metadata": {},
   "outputs": [],
   "source": [
    "n1.pointer.pointer  # n2 의 pointer"
   ]
  },
  {
   "cell_type": "code",
   "execution_count": 1,
   "metadata": {},
   "outputs": [],
   "source": [
    "class Node:\n",
    "    def __init__(self, value=None, pointer=None):\n",
    "        self.value = value\n",
    "        self.pointer = pointer\n",
    "        \n",
    "    def getData(self):  # 데이터 읽기\n",
    "        return self.value\n",
    "    \n",
    "    def getNext(self):  # 다음 노드 가져오기\n",
    "        return self.pointer \n",
    "    \n",
    "    def setData(self, newdata):\n",
    "        self.value = newdata\n",
    "        \n",
    "    def setNext(self, newpointer):\n",
    "        self.pointer = newpointer\n",
    "        \n",
    "    def __repr__(self):\n",
    "        return f\"[{self.value}] -> {self.pointer}\""
   ]
  },
  {
   "cell_type": "code",
   "execution_count": 18,
   "metadata": {},
   "outputs": [
    {
     "data": {
      "text/plain": [
       "[N1] -> None"
      ]
     },
     "execution_count": 18,
     "metadata": {},
     "output_type": "execute_result"
    }
   ],
   "source": [
    "n1 = Node(\"N1\")\n",
    "n1"
   ]
  },
  {
   "cell_type": "code",
   "execution_count": 19,
   "metadata": {},
   "outputs": [
    {
     "data": {
      "text/plain": [
       "[N2] -> None"
      ]
     },
     "execution_count": 19,
     "metadata": {},
     "output_type": "execute_result"
    }
   ],
   "source": [
    "n2 = Node(\"N2\")\n",
    "n2"
   ]
  },
  {
   "cell_type": "code",
   "execution_count": 20,
   "metadata": {},
   "outputs": [
    {
     "data": {
      "text/plain": [
       "[N1] -> [N2] -> None"
      ]
     },
     "execution_count": 20,
     "metadata": {},
     "output_type": "execute_result"
    }
   ],
   "source": [
    "n1.pointer = n2\n",
    "n1"
   ]
  },
  {
   "cell_type": "code",
   "execution_count": 21,
   "metadata": {},
   "outputs": [
    {
     "data": {
      "text/plain": [
       "[N3] -> [N1] -> [N2] -> None"
      ]
     },
     "execution_count": 21,
     "metadata": {},
     "output_type": "execute_result"
    }
   ],
   "source": [
    "n3 = Node(\"N3\", n1)\n",
    "n3"
   ]
  },
  {
   "cell_type": "markdown",
   "metadata": {},
   "source": [
    "## assert(조건식)\n",
    "조건식이 거짓이면 AssertionError 발생"
   ]
  },
  {
   "cell_type": "code",
   "execution_count": 22,
   "metadata": {},
   "outputs": [],
   "source": [
    "assert(10 == 10)"
   ]
  },
  {
   "cell_type": "code",
   "execution_count": 23,
   "metadata": {},
   "outputs": [
    {
     "ename": "AssertionError",
     "evalue": "",
     "output_type": "error",
     "traceback": [
      "\u001b[1;31m---------------------------------------------------------------------------\u001b[0m",
      "\u001b[1;31mAssertionError\u001b[0m                            Traceback (most recent call last)",
      "\u001b[1;32m<ipython-input-23-09c0d2552940>\u001b[0m in \u001b[0;36m<module>\u001b[1;34m\u001b[0m\n\u001b[1;32m----> 1\u001b[1;33m \u001b[1;32massert\u001b[0m\u001b[1;33m(\u001b[0m\u001b[1;36m10\u001b[0m \u001b[1;33m!=\u001b[0m \u001b[1;36m10\u001b[0m\u001b[1;33m)\u001b[0m\u001b[1;33m\u001b[0m\u001b[1;33m\u001b[0m\u001b[0m\n\u001b[0m",
      "\u001b[1;31mAssertionError\u001b[0m: "
     ]
    }
   ],
   "source": [
    "assert(10 != 10)"
   ]
  },
  {
   "cell_type": "code",
   "execution_count": 24,
   "metadata": {},
   "outputs": [
    {
     "data": {
      "text/plain": [
       "[a] -> [b] -> [c] -> [d] -> None"
      ]
     },
     "execution_count": 24,
     "metadata": {},
     "output_type": "execute_result"
    }
   ],
   "source": [
    "L = Node(\"a\", Node(\"b\", Node(\"c\", Node(\"d\"))))\n",
    "L"
   ]
  },
  {
   "cell_type": "code",
   "execution_count": 25,
   "metadata": {},
   "outputs": [
    {
     "data": {
      "text/plain": [
       "'d'"
      ]
     },
     "execution_count": 25,
     "metadata": {},
     "output_type": "execute_result"
    }
   ],
   "source": [
    "L.pointer.pointer.pointer.value # ???"
   ]
  },
  {
   "cell_type": "code",
   "execution_count": 26,
   "metadata": {},
   "outputs": [
    {
     "data": {
      "text/plain": [
       "[a] -> [e] -> None"
      ]
     },
     "execution_count": 26,
     "metadata": {},
     "output_type": "execute_result"
    }
   ],
   "source": [
    "L.setNext(Node('e'))\n",
    "L"
   ]
  },
  {
   "cell_type": "code",
   "execution_count": 27,
   "metadata": {},
   "outputs": [
    {
     "data": {
      "text/plain": [
       "'e'"
      ]
     },
     "execution_count": 27,
     "metadata": {},
     "output_type": "execute_result"
    }
   ],
   "source": [
    "L.getNext().getData()"
   ]
  },
  {
   "cell_type": "code",
   "execution_count": 28,
   "metadata": {},
   "outputs": [],
   "source": [
    "L.getNext().setData('fff')"
   ]
  },
  {
   "cell_type": "code",
   "execution_count": 29,
   "metadata": {},
   "outputs": [
    {
     "data": {
      "text/plain": [
       "[a] -> [fff] -> None"
      ]
     },
     "execution_count": 29,
     "metadata": {},
     "output_type": "execute_result"
    }
   ],
   "source": [
    "L"
   ]
  },
  {
   "cell_type": "markdown",
   "metadata": {},
   "source": [
    "# LinkedList 구현\n",
    "FIFO (First-In First-Out) 으로 구현"
   ]
  },
  {
   "cell_type": "markdown",
   "metadata": {},
   "source": [
    "- List 의 동작들\n",
    "    - 각 노드의 값을 출력하기\n",
    "    - 이전 노드(prev) 기준으로 다음 노드(next) '삭제'하기\n",
    "    - 새 노드 '추가',\n",
    "    - n번째 노드 찾기 (index)\n",
    "    - '값'으로 노드 찾기\n",
    "    - n번째 노드 '삭제'하기\n",
    "    - 특정 '값'의 노드 '삭제'하기\n",
    "    "
   ]
  },
  {
   "cell_type": "code",
   "execution_count": 57,
   "metadata": {},
   "outputs": [],
   "source": [
    "class LinkedListFIFO:\n",
    "    def __init__(self):\n",
    "        self.head = None   # 리스트의 첫번째 노드를 가리키는 포인터\n",
    "        self.tail = None   # 리스트의 마지막 노드를 가리키는 포인터\n",
    "        self.length = 0    # 리스트의 노드 (데이터) 개수\n",
    "    \n",
    "    # 새 노드 추가하기 (리스트의 끝에 추가)\n",
    "    # tail 이 있다면 tail의 다음 node 에 새 node 추가\n",
    "    def _add(self, value):\n",
    "        self.length += 1    # 노드개수 +1 증가 \n",
    "        node = Node(value)   # 새로이 추가될 노드 생성\n",
    "        if self.tail:\n",
    "            self.tail.pointer = node  # 새 노드가 기존 tail 뒤에 연결\n",
    "        self.tail = node   # tail 은 뒤에 새로 추가도니 새 노드를 가리키게 이동\n",
    "        \n",
    "    def addNode(self, value):\n",
    "        if not self.head:  # 첫번째 추가되는 노드라 head가 None 이었다면..\n",
    "            self.length = 1   # 첫번째 노드다!\n",
    "            node = Node(value)\n",
    "            self.head = node  # 첫번째 노드이기에 head, tail 둘다 새 노드 가리킴 \n",
    "            self.tail = node\n",
    "        else:   # 첫번째 노드가 아닌경우.  (이미 1개 이상의 노드가 있었다면)\n",
    "            self._add(value)\n",
    "        \n",
    "    # head 부터 시작하여 각 node 의 값을 출력하기\n",
    "    def _printList(self):\n",
    "        node = self.head\n",
    "        while node:  # 맨 끝의 node 에 다다를 때까지\n",
    "            print(node.value, end=\" \")\n",
    "            node = node.pointer   # node 를 다음 노드로 이동 \n",
    "        print()\n",
    "        \n",
    "    # 리스트 안의 노드 전부 삭제\n",
    "    def _deleteAll(self):\n",
    "        self.length = 0\n",
    "        self.head = None\n",
    "        self.tail = None\n",
    "        print(\"연결리스트가 비었습니다\")\n",
    "        \n",
    "    # 인덱스로 노드 찾기\n",
    "    # 못찾으면 None 리턴\n",
    "    def _find(self, index):\n",
    "        node = self.head   # head 부터 찾기 시작\n",
    "        prev = None       # 발견한 노드의 이전 노드.  나중에 삭제/삽입동작에 사용\n",
    "        \n",
    "        i = 0\n",
    "        while node and i < index:\n",
    "            prev = node\n",
    "            node = node.pointer # node 를 다음 node 로 이동\n",
    "            i += 1\n",
    "            \n",
    "        return node, prev\n",
    "    \n",
    "    # 값으로 노드를 찾는다.\n",
    "    def _find_by_value(self, value):\n",
    "        prev = None\n",
    "        node = self.head\n",
    "        \n",
    "        while node:\n",
    "            if node.value == value:   # 주어진 value 값을 갖고 있는 노드 발견!\n",
    "                break\n",
    "                \n",
    "            prev = node\n",
    "            node = node.pointer # 다음 노드로 이동.\n",
    "            \n",
    "        return node, prev    \n",
    "    \n",
    "    \n",
    "    # 이전노드(prev)를 기반으로 노드(node) 삭제\n",
    "    def _delete(self, prev, node):\n",
    "        self.length -= 1\n",
    "        if prev:  # 이전 노드가 있는 경우\n",
    "            prev.pointer = node.pointer\n",
    "        else:  # 삭제하려던 노드가 첫번째 노드인 경우\n",
    "            self.head = node.pointer\n",
    "    \n",
    "    # 인덱스로 노드를 찾아서 삭제한다\n",
    "    def deleteNode(self, index):\n",
    "        node, prev = self._find(index)\n",
    "        if node:  # index 번째 노드 찾았으면\n",
    "            self._delete(prev, node)\n",
    "        else:\n",
    "            print(f'인덱스{index} 번째 노드가 없습니다')\n",
    "    \n",
    "    # 값으로 노드를 찾아서 삭제하기\n",
    "    def deleteNodeByValue(self, value):\n",
    "        node, prev = self._find_by_value(value)\n",
    "        if node: # value 값을 갖고 있는 노드 발견하면\n",
    "            self._delete(prev,node)\n",
    "        else:\n",
    "            print(f'값 {value} 를 갖고 있는 노드가 없습니다')\n",
    "    \n",
    "    # index 번째 value값을 가진 새 노드 삽입()\n",
    "    def insert(self, index, value):\n",
    "        node, prev = self._find(index)\n",
    "        \n",
    "#         if not node:\n",
    "#             print(f'{index} 번째는 없습니다')\n",
    "#             return\n",
    "        \n",
    "        self.length += 1\n",
    "        newNode = Node(value, node)\n",
    "        \n",
    "        # 맨 뒤에 insert 되는 경우\n",
    "        if not self.tail or self.tail == node: \n",
    "            self.tail = newNode\n",
    "        \n",
    "        # 맨 앞에 insert 되는 경우\n",
    "        if not prev:\n",
    "            self.head = newNode\n",
    "        else:\n",
    "            # 중간에 insert 되는 경우    \n",
    "            prev.pointer = newNode"
   ]
  },
  {
   "cell_type": "code",
   "execution_count": 47,
   "metadata": {},
   "outputs": [],
   "source": [
    "ll = LinkedListFIFO()"
   ]
  },
  {
   "cell_type": "code",
   "execution_count": 48,
   "metadata": {},
   "outputs": [
    {
     "data": {
      "text/plain": [
       "9"
      ]
     },
     "execution_count": 48,
     "metadata": {},
     "output_type": "execute_result"
    }
   ],
   "source": [
    "for i in range(1, 10):\n",
    "    ll.addNode(i)\n",
    "    \n",
    "ll.length"
   ]
  },
  {
   "cell_type": "code",
   "execution_count": 49,
   "metadata": {},
   "outputs": [
    {
     "name": "stdout",
     "output_type": "stream",
     "text": [
      "1 2 3 4 5 6 7 8 9 \n"
     ]
    }
   ],
   "source": [
    "ll._printList()"
   ]
  },
  {
   "cell_type": "code",
   "execution_count": 50,
   "metadata": {},
   "outputs": [
    {
     "name": "stdout",
     "output_type": "stream",
     "text": [
      "1 2 100 3 4 5 6 7 8 9 \n"
     ]
    }
   ],
   "source": [
    "ll.insert(2, 100)\n",
    "ll._printList()"
   ]
  },
  {
   "cell_type": "code",
   "execution_count": 51,
   "metadata": {},
   "outputs": [
    {
     "name": "stdout",
     "output_type": "stream",
     "text": [
      "500 1 2 100 3 4 5 6 7 8 9 \n"
     ]
    }
   ],
   "source": [
    "ll.insert(0, 500)\n",
    "ll._printList()"
   ]
  },
  {
   "cell_type": "code",
   "execution_count": 52,
   "metadata": {},
   "outputs": [
    {
     "name": "stdout",
     "output_type": "stream",
     "text": [
      "500 1 2 100 3 4 5 6 7 8 33 9 \n"
     ]
    }
   ],
   "source": [
    "ll.insert(10, 33)\n",
    "ll._printList()"
   ]
  },
  {
   "cell_type": "code",
   "execution_count": 21,
   "metadata": {},
   "outputs": [
    {
     "data": {
      "text/plain": [
       "([6] -> [7] -> [8] -> [9] -> None, [5] -> [6] -> [7] -> [8] -> [9] -> None)"
      ]
     },
     "execution_count": 21,
     "metadata": {},
     "output_type": "execute_result"
    }
   ],
   "source": [
    "ll._find(5)"
   ]
  },
  {
   "cell_type": "code",
   "execution_count": 22,
   "metadata": {},
   "outputs": [
    {
     "data": {
      "text/plain": [
       "(None, [9] -> None)"
      ]
     },
     "execution_count": 22,
     "metadata": {},
     "output_type": "execute_result"
    }
   ],
   "source": [
    "ll._find(200)"
   ]
  },
  {
   "cell_type": "code",
   "execution_count": 23,
   "metadata": {},
   "outputs": [
    {
     "data": {
      "text/plain": [
       "([7] -> [8] -> [9] -> None, [6] -> [7] -> [8] -> [9] -> None)"
      ]
     },
     "execution_count": 23,
     "metadata": {},
     "output_type": "execute_result"
    }
   ],
   "source": [
    "ll._find_by_value(7)"
   ]
  },
  {
   "cell_type": "code",
   "execution_count": 24,
   "metadata": {},
   "outputs": [
    {
     "data": {
      "text/plain": [
       "(None, [9] -> None)"
      ]
     },
     "execution_count": 24,
     "metadata": {},
     "output_type": "execute_result"
    }
   ],
   "source": [
    "ll._find_by_value(100)"
   ]
  },
  {
   "cell_type": "code",
   "execution_count": 25,
   "metadata": {},
   "outputs": [
    {
     "name": "stdout",
     "output_type": "stream",
     "text": [
      "1 2 3 4 5 6 7 8 9 \n"
     ]
    }
   ],
   "source": [
    "ll._printList()"
   ]
  },
  {
   "cell_type": "code",
   "execution_count": 26,
   "metadata": {},
   "outputs": [],
   "source": [
    "ll.deleteNode(2)"
   ]
  },
  {
   "cell_type": "code",
   "execution_count": 27,
   "metadata": {},
   "outputs": [
    {
     "name": "stdout",
     "output_type": "stream",
     "text": [
      "1 2 4 5 6 7 8 9 \n"
     ]
    }
   ],
   "source": [
    "ll._printList()"
   ]
  },
  {
   "cell_type": "code",
   "execution_count": 28,
   "metadata": {},
   "outputs": [],
   "source": [
    "ll.deleteNode(0)"
   ]
  },
  {
   "cell_type": "code",
   "execution_count": 29,
   "metadata": {},
   "outputs": [
    {
     "name": "stdout",
     "output_type": "stream",
     "text": [
      "2 4 5 6 7 8 9 \n"
     ]
    }
   ],
   "source": [
    "ll._printList()"
   ]
  },
  {
   "cell_type": "code",
   "execution_count": 30,
   "metadata": {},
   "outputs": [
    {
     "name": "stdout",
     "output_type": "stream",
     "text": [
      "인덱스100 번째 노드가 없습니다\n"
     ]
    }
   ],
   "source": [
    "ll.deleteNode(100)"
   ]
  },
  {
   "cell_type": "code",
   "execution_count": 31,
   "metadata": {},
   "outputs": [],
   "source": [
    "ll.deleteNodeByValue(9)"
   ]
  },
  {
   "cell_type": "code",
   "execution_count": 32,
   "metadata": {},
   "outputs": [
    {
     "name": "stdout",
     "output_type": "stream",
     "text": [
      "2 4 5 6 7 8 \n"
     ]
    }
   ],
   "source": [
    "ll._printList()"
   ]
  },
  {
   "cell_type": "code",
   "execution_count": 33,
   "metadata": {},
   "outputs": [],
   "source": [
    "ll.deleteNodeByValue(6)"
   ]
  },
  {
   "cell_type": "code",
   "execution_count": 34,
   "metadata": {},
   "outputs": [
    {
     "name": "stdout",
     "output_type": "stream",
     "text": [
      "2 4 5 7 8 \n"
     ]
    }
   ],
   "source": [
    "ll._printList()"
   ]
  },
  {
   "cell_type": "code",
   "execution_count": 35,
   "metadata": {},
   "outputs": [
    {
     "data": {
      "text/plain": [
       "5"
      ]
     },
     "execution_count": 35,
     "metadata": {},
     "output_type": "execute_result"
    }
   ],
   "source": [
    "ll.length"
   ]
  },
  {
   "cell_type": "code",
   "execution_count": 36,
   "metadata": {},
   "outputs": [],
   "source": [
    "ll._find(2)[0].value = 500"
   ]
  },
  {
   "cell_type": "code",
   "execution_count": 37,
   "metadata": {},
   "outputs": [
    {
     "name": "stdout",
     "output_type": "stream",
     "text": [
      "2 4 500 7 8 \n"
     ]
    }
   ],
   "source": [
    "ll._printList()"
   ]
  },
  {
   "cell_type": "code",
   "execution_count": 39,
   "metadata": {},
   "outputs": [],
   "source": [
    "#ll[2] = 400"
   ]
  },
  {
   "cell_type": "markdown",
   "metadata": {},
   "source": [
    "# list.insert() vs LinkedList.insert()"
   ]
  },
  {
   "cell_type": "code",
   "execution_count": 53,
   "metadata": {},
   "outputs": [],
   "source": [
    "import time\n",
    "from datetime import timedelta"
   ]
  },
  {
   "cell_type": "code",
   "execution_count": 60,
   "metadata": {},
   "outputs": [],
   "source": [
    "num = 40000"
   ]
  },
  {
   "cell_type": "code",
   "execution_count": 61,
   "metadata": {},
   "outputs": [
    {
     "name": "stdout",
     "output_type": "stream",
     "text": [
      "insert() x 40000 경과시간 0:00:00.375055\n"
     ]
    }
   ],
   "source": [
    "start_time = time.time()\n",
    "\n",
    "data = []\n",
    "for i in range(num, 0, -1):\n",
    "    data.insert(0, i)\n",
    "    \n",
    "end_time = time.time()\n",
    "elapsed_time = end_time - start_time # 경과시간\n",
    "print('insert() x %d 경과시간 %s' % (num, str(timedelta(seconds = elapsed_time))))"
   ]
  },
  {
   "cell_type": "code",
   "execution_count": 62,
   "metadata": {},
   "outputs": [
    {
     "name": "stdout",
     "output_type": "stream",
     "text": [
      "LinkedList의 insert() x 40000 경과시간 0:00:00.066880\n"
     ]
    }
   ],
   "source": [
    "start_time = time.time()\n",
    "\n",
    "ll = LinkedListFIFO()\n",
    "for i in range(num, 0, -1):\n",
    "    ll.insert(0, i)\n",
    "    \n",
    "end_time = time.time()\n",
    "elapsed_time = end_time - start_time # 경과시간\n",
    "print('LinkedList의 insert() x %d 경과시간 %s' % (num, str(timedelta(seconds = elapsed_time))))"
   ]
  },
  {
   "cell_type": "code",
   "execution_count": null,
   "metadata": {},
   "outputs": [],
   "source": []
  },
  {
   "cell_type": "code",
   "execution_count": null,
   "metadata": {},
   "outputs": [],
   "source": []
  },
  {
   "cell_type": "code",
   "execution_count": null,
   "metadata": {},
   "outputs": [],
   "source": []
  },
  {
   "cell_type": "code",
   "execution_count": null,
   "metadata": {},
   "outputs": [],
   "source": []
  },
  {
   "cell_type": "code",
   "execution_count": null,
   "metadata": {},
   "outputs": [],
   "source": []
  },
  {
   "cell_type": "code",
   "execution_count": null,
   "metadata": {},
   "outputs": [],
   "source": []
  },
  {
   "cell_type": "code",
   "execution_count": null,
   "metadata": {},
   "outputs": [],
   "source": []
  },
  {
   "cell_type": "code",
   "execution_count": null,
   "metadata": {},
   "outputs": [],
   "source": []
  },
  {
   "cell_type": "code",
   "execution_count": null,
   "metadata": {},
   "outputs": [],
   "source": []
  },
  {
   "cell_type": "code",
   "execution_count": null,
   "metadata": {},
   "outputs": [],
   "source": []
  },
  {
   "cell_type": "code",
   "execution_count": null,
   "metadata": {},
   "outputs": [],
   "source": []
  }
 ],
 "metadata": {
  "kernelspec": {
   "display_name": "Python 3",
   "language": "python",
   "name": "python3"
  },
  "language_info": {
   "codemirror_mode": {
    "name": "ipython",
    "version": 3
   },
   "file_extension": ".py",
   "mimetype": "text/x-python",
   "name": "python",
   "nbconvert_exporter": "python",
   "pygments_lexer": "ipython3",
   "version": "3.7.4"
  }
 },
 "nbformat": 4,
 "nbformat_minor": 2
}
